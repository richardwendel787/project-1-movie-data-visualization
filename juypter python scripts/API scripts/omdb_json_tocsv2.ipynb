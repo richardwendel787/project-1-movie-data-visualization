{
 "cells": [
  {
   "cell_type": "code",
   "execution_count": 1,
   "metadata": {},
   "outputs": [],
   "source": [
    "# Script file to grab data using OMDB's api\n",
    "# After grabing relavent data store into dataframe and save as csv file\n",
    "# Part 1 because of free api call limit, storing as 2 file to save messages\n",
    "# Dependencies\n",
    "import requests\n",
    "import pandas as pd\n",
    "import numpy as np\n",
    "from config import api_key\n",
    "# import api key\n",
    "# read in csv file for title lis\n",
    "num_csv = \"../data_files/Numberdotcom_fix_names.csv\"\n"
   ]
  },
  {
   "cell_type": "code",
   "execution_count": 2,
   "metadata": {},
   "outputs": [
    {
     "data": {
      "text/html": "<div>\n<style scoped>\n    .dataframe tbody tr th:only-of-type {\n        vertical-align: middle;\n    }\n\n    .dataframe tbody tr th {\n        vertical-align: top;\n    }\n\n    .dataframe thead th {\n        text-align: right;\n    }\n</style>\n<table border=\"1\" class=\"dataframe\">\n  <thead>\n    <tr style=\"text-align: right;\">\n      <th></th>\n      <th>Ranking per year</th>\n      <th>Released</th>\n      <th>Title</th>\n      <th>Source</th>\n      <th>Production\\nBudget</th>\n      <th>Opening Weekend\\nRevenue</th>\n      <th>Domestic\\nBox Office</th>\n      <th>Infl. Adj. Dom.\\nBox Office</th>\n      <th>International\\nBox Office</th>\n      <th>Worldwide\\nBox Office</th>\n    </tr>\n  </thead>\n  <tbody>\n    <tr>\n      <td>0</td>\n      <td>1</td>\n      <td>Nov 17, 2000</td>\n      <td>How the Grinch Stole Christmas</td>\n      <td>Based on Fiction Book/Short Story</td>\n      <td>$123,000,000</td>\n      <td>$55,820,330</td>\n      <td>$260,044,825</td>\n      <td>$438,980,791</td>\n      <td>$85,096,578</td>\n      <td>$345,141,403</td>\n    </tr>\n    <tr>\n      <td>1</td>\n      <td>2</td>\n      <td>Dec 22, 2000</td>\n      <td>Cast Away</td>\n      <td>Original Screenplay</td>\n      <td>$85,000,000</td>\n      <td>$28,883,406</td>\n      <td>$233,632,142</td>\n      <td>$384,884,272</td>\n      <td>$193,598,374</td>\n      <td>$427,230,516</td>\n    </tr>\n    <tr>\n      <td>2</td>\n      <td>3</td>\n      <td>May 24, 2000</td>\n      <td>Mission: Impossible II</td>\n      <td>Based on TV</td>\n      <td>$120,000,000</td>\n      <td>$57,845,297</td>\n      <td>$215,409,889</td>\n      <td>$364,078,672</td>\n      <td>$334,178,627</td>\n      <td>$549,588,516</td>\n    </tr>\n    <tr>\n      <td>3</td>\n      <td>4</td>\n      <td>May 5, 2000</td>\n      <td>Gladiator</td>\n      <td>Original Screenplay</td>\n      <td>$103,000,000</td>\n      <td>$34,819,017</td>\n      <td>$187,683,805</td>\n      <td>$317,130,387</td>\n      <td>$270,000,000</td>\n      <td>$457,683,805</td>\n    </tr>\n    <tr>\n      <td>4</td>\n      <td>5</td>\n      <td>Dec 15, 2000</td>\n      <td>What Women Want</td>\n      <td>Original Screenplay</td>\n      <td>$65,000,000</td>\n      <td>$33,614,543</td>\n      <td>$182,805,123</td>\n      <td>$303,565,725</td>\n      <td>$191,300,000</td>\n      <td>$374,105,123</td>\n    </tr>\n  </tbody>\n</table>\n</div>",
      "text/plain": "   Ranking per year      Released                           Title  \\\n0                 1  Nov 17, 2000  How the Grinch Stole Christmas   \n1                 2  Dec 22, 2000                       Cast Away   \n2                 3  May 24, 2000          Mission: Impossible II   \n3                 4   May 5, 2000                       Gladiator   \n4                 5  Dec 15, 2000                 What Women Want   \n\n                              Source Production\\nBudget  \\\n0  Based on Fiction Book/Short Story       $123,000,000   \n1                Original Screenplay        $85,000,000   \n2                        Based on TV       $120,000,000   \n3                Original Screenplay       $103,000,000   \n4                Original Screenplay        $65,000,000   \n\n  Opening Weekend\\nRevenue Domestic\\nBox Office Infl. Adj. Dom.\\nBox Office  \\\n0              $55,820,330         $260,044,825                $438,980,791   \n1              $28,883,406         $233,632,142                $384,884,272   \n2              $57,845,297         $215,409,889                $364,078,672   \n3              $34,819,017         $187,683,805                $317,130,387   \n4              $33,614,543         $182,805,123                $303,565,725   \n\n  International\\nBox Office Worldwide\\nBox Office  \n0               $85,096,578          $345,141,403  \n1              $193,598,374          $427,230,516  \n2              $334,178,627          $549,588,516  \n3              $270,000,000          $457,683,805  \n4              $191,300,000          $374,105,123  "
     },
     "execution_count": 2,
     "metadata": {},
     "output_type": "execute_result"
    }
   ],
   "source": [
    "# read in csv file for title list\n",
    "num_df = pd.read_csv(num_csv)\n",
    "num_df.head()"
   ]
  },
  {
   "cell_type": "code",
   "execution_count": 10,
   "metadata": {},
   "outputs": [
    {
     "name": "stdout",
     "output_type": "stream",
     "text": "How the Grinch Stole Christmas\n"
    },
    {
     "data": {
      "text/plain": "['Nov 17, 2000',\n 'Dec 22, 2000',\n 'May 24, 2000',\n 'May 5, 2000',\n 'Dec 15, 2000',\n 'Jun 30, 2000',\n 'Oct 6, 2000',\n 'Jul 14, 2000',\n 'Jul 7, 2000',\n 'Jul 21, 2000',\n 'May 19, 2000',\n 'Dec 8, 2000',\n 'Mar 17, 2000',\n 'Nov 3, 2000',\n 'Dec 27, 2000',\n 'Jul 28, 2000',\n 'Jun 2, 2000',\n 'Sep 29, 2000',\n 'Jun 28, 2000',\n 'Dec 22, 2000',\n 'Jun 21, 2000',\n 'Jun 9, 2000',\n 'Nov 22, 2000',\n 'Jun 23, 2000',\n 'Aug 4, 2000',\n 'Dec 15, 2000',\n 'Feb 4, 2000',\n 'Apr 21, 2000',\n 'Nov 17, 2000',\n 'Dec 22, 2000',\n 'Aug 4, 2000',\n 'Dec 15, 2000',\n 'Jun 16, 2000',\n 'Jul 7, 2000',\n 'May 19, 2000',\n 'Dec 8, 2000',\n 'Nov 22, 2000',\n 'Apr 7, 2000',\n 'Aug 18, 2000',\n 'Mar 10, 2000',\n 'Aug 4, 2000',\n 'Feb 18, 2000',\n 'May 26, 2000',\n 'Mar 22, 2000',\n 'Mar 17, 2000',\n 'Dec 19, 2000',\n 'Mar 31, 2000',\n 'Nov 10, 2000',\n 'Feb 11, 2000',\n 'Dec 22, 2000',\n 'Apr 28, 2000',\n 'Aug 11, 2000',\n 'Jul 21, 2000',\n 'Feb 11, 2000',\n 'Nov 10, 2000',\n 'Feb 18, 2000',\n 'Oct 20, 2000',\n 'Aug 11, 2000',\n 'Apr 14, 2000',\n 'Apr 14, 2000',\n 'Nov 17, 2000',\n 'Feb 18, 2000',\n 'Apr 28, 2000',\n 'Mar 31, 2000',\n 'Dec 22, 2000',\n 'Nov 17, 2000',\n 'Apr 28, 2000',\n 'Oct 20, 2000',\n 'Dec 22, 2000',\n 'Apr 7, 2000',\n 'Dec 8, 2000',\n 'Sep 15, 2000',\n 'Nov 3, 2000',\n 'Aug 25, 2000',\n 'Aug 11, 2000',\n 'Sep 8, 2000',\n 'Apr 21, 2000',\n 'Mar 31, 2000',\n 'Oct 27, 2000',\n 'Jun 30, 2000',\n 'Sep 8, 2000',\n 'Feb 25, 2000',\n 'Jun 16, 2000',\n 'Jun 16, 2000',\n 'May 12, 2000',\n 'Sep 22, 2000',\n 'Feb 23, 2000',\n 'Mar 10, 2000',\n 'Nov 10, 2000',\n 'May 19, 2000',\n 'May 12, 2000',\n 'Oct 13, 2000',\n 'Jan 28, 2000',\n 'Jul 26, 2000',\n 'Dec 22, 2000',\n 'Jul 21, 2000',\n 'Mar 3, 2000',\n 'Sep 15, 2000',\n 'Dec 8, 2000',\n 'Mar 3, 2000',\n 'Nov 16, 2001',\n 'Dec 19, 2001',\n 'Nov 2, 2001',\n 'May 18, 2001',\n 'Aug 3, 2001',\n 'May 4, 2001',\n 'May 25, 2001',\n 'Dec 7, 2001',\n 'Jul 18, 2001',\n 'Jul 27, 2001',\n 'Dec 21, 2001',\n 'Feb 9, 2001',\n 'Aug 10, 2001',\n 'Jun 22, 2001',\n 'Jun 15, 2001',\n 'Jun 22, 2001',\n 'Mar 30, 2001',\n 'Dec 28, 2001',\n 'Aug 3, 2001',\n 'Dec 14, 2001',\n 'Aug 10, 2001',\n 'Jul 13, 2001',\n 'Jul 20, 2001',\n 'Jul 4, 2001',\n 'Jun 8, 2001',\n 'Dec 21, 2001',\n 'Jun 29, 2001',\n 'Oct 5, 2001',\n 'Apr 6, 2001',\n 'Apr 13, 2001',\n 'Jul 4, 2001',\n 'Jul 13, 2001',\n 'Nov 9, 2001',\n 'Jun 8, 2001',\n 'Mar 2, 2001',\n 'Feb 16, 2001',\n 'Nov 21, 2001',\n 'Jan 26, 2001',\n 'Nov 30, 2001',\n 'Dec 25, 2001',\n 'May 18, 2001',\n 'Aug 17, 2001',\n 'May 11, 2001',\n 'Jun 1, 2001',\n 'Sep 28, 2001',\n 'Apr 6, 2001',\n 'Dec 14, 2001',\n 'Mar 16, 2001',\n 'Mar 16, 2001',\n 'Aug 13, 2001',\n 'Oct 5, 2001',\n 'Dec 25, 2001',\n 'Nov 2, 2001',\n 'Sep 28, 2001',\n 'Nov 2, 2001',\n 'Oct 26, 2001',\n 'Oct 12, 2001',\n 'Dec 26, 2001',\n 'Mar 23, 2001',\n 'Dec 28, 2001',\n 'Sep 14, 2001',\n 'Jun 8, 2001',\n 'Dec 14, 2001',\n 'Jul 6, 2001',\n 'Nov 21, 2001',\n 'Mar 2, 2001',\n 'Apr 27, 2001',\n 'Jun 1, 2001',\n 'Jul 11, 2001',\n 'Oct 19, 2001',\n 'Aug 24, 2001',\n 'Jan 12, 2001',\n 'Oct 19, 2001',\n 'Jun 27, 2001',\n 'Dec 21, 2001',\n 'Mar 30, 2001',\n 'Apr 11, 2001',\n 'Sep 7, 2001',\n 'Apr 20, 2001',\n 'Aug 17, 2001',\n 'Feb 16, 2001',\n 'Mar 9, 2001',\n 'Sep 28, 2001',\n 'May 18, 2001',\n 'Nov 9, 2001',\n 'Dec 21, 2001',\n 'Oct 5, 2001',\n 'Jan 19, 2001',\n 'Aug 24, 2001',\n 'Feb 9, 2001',\n 'Oct 19, 2001',\n 'Sep 14, 2001',\n 'Sep 7, 2001',\n 'Aug 3, 2001',\n 'Feb 23, 2001',\n 'Oct 26, 2001',\n 'Apr 11, 2001',\n 'Apr 20, 2001',\n 'Aug 10, 2001',\n 'Mar 30, 2001',\n 'May 3, 2002',\n 'Dec 18, 2002',\n 'May 16, 2002',\n 'Nov 15, 2002',\n 'Aug 2, 2002',\n 'Jul 25, 2002',\n 'Jul 3, 2002',\n 'Mar 15, 2002',\n 'Dec 27, 2002',\n 'Dec 25, 2002',\n 'Nov 22, 2002',\n 'Jun 14, 2002',\n 'Jun 21, 2002',\n 'Aug 9, 2002',\n 'Nov 1, 2002',\n 'Jun 21, 2002',\n 'Oct 18, 2002',\n 'Sep 27, 2002',\n 'Jun 28, 2002',\n 'Jun 14, 2002',\n 'May 31, 2002',\n 'Nov 8, 2002',\n 'Jul 12, 2002',\n 'Mar 29, 2002',\n 'Dec 13, 2002',\n 'Dec 20, 2002',\n 'Oct 4, 2002',\n 'Apr 19, 2002',\n 'Aug 7, 2002',\n 'Mar 22, 2002',\n 'Jan 18, 2002',\n 'Mar 1, 2002',\n 'Dec 20, 2002',\n 'Mar 29, 2002',\n 'May 24, 2002',\n 'Feb 15, 2002',\n 'Jun 7, 2002',\n 'May 24, 2002',\n 'Apr 12, 2002',\n 'Dec 13, 2002',\n 'Jul 19, 2002',\n 'Mar 8, 2002',\n 'Dec 13, 2002',\n 'Jan 25, 2002',\n 'May 8, 2002',\n 'Jul 3, 2002',\n 'Sep 27, 2002',\n 'Feb 15, 2002',\n 'Feb 8, 2002',\n 'Dec 13, 2002',\n 'Feb 19, 2002',\n 'Dec 27, 2002',\n 'Apr 5, 2002',\n 'Jan 11, 2002',\n 'Jun 14, 2002',\n 'May 17, 2002',\n 'Aug 2, 2002',\n 'Mar 15, 2002',\n 'Aug 16, 2002',\n 'Dec 20, 2002',\n 'Feb 8, 2002',\n 'May 24, 2002',\n 'May 31, 2002',\n 'Nov 27, 2002',\n 'Mar 15, 2002',\n 'Mar 1, 2002',\n 'Mar 29, 2002',\n 'Jan 25, 2002',\n 'Jul 19, 2002',\n 'Nov 1, 2002',\n 'Dec 27, 2002',\n 'Dec 6, 2002',\n 'Apr 19, 2002',\n 'Feb 22, 2002',\n 'Jul 12, 2002',\n 'Jun 7, 2002',\n 'Oct 25, 2002',\n 'Feb 22, 2002',\n 'Aug 9, 2002',\n 'Oct 11, 2002',\n 'Apr 12, 2002',\n 'Dec 6, 2002',\n 'Sep 6, 2002',\n 'Oct 11, 2002',\n 'Feb 15, 2002',\n 'Feb 8, 2002',\n 'Sep 20, 2002',\n 'Oct 11, 2002',\n 'Jul 17, 2002',\n 'Jul 26, 2002',\n 'Aug 23, 2002',\n 'Oct 11, 2002',\n 'Dec 31, 2002',\n 'Nov 15, 2002',\n 'Nov 27, 2002',\n 'Apr 26, 2002',\n 'Sep 20, 2002',\n 'Sep 13, 2002',\n 'Jun 21, 2002',\n 'Aug 30, 2002',\n 'May 30, 2003',\n 'Dec 17, 2003',\n 'Jul 9, 2003',\n 'May 15, 2003',\n 'May 23, 2003',\n 'May 2, 2003',\n 'Nov 7, 2003',\n 'Jul 1, 2003',\n 'Nov 5, 2003',\n 'Dec 25, 2003',\n 'Jul 18, 2003',\n 'Apr 11, 2003',\n 'Mar 7, 2003',\n 'Jun 20, 2003',\n 'Jun 6, 2003',\n 'Dec 12, 2003',\n 'Jul 25, 2003',\n 'Aug 8, 2003',\n 'Jul 25, 2003',\n 'Dec 5, 2003',\n 'Aug 6, 2003',\n 'Oct 24, 2003',\n 'May 30, 2003',\n 'Feb 7, 2003',\n 'Aug 1, 2003',\n 'May 9, 2003',\n 'Feb 14, 2003',\n 'Nov 21, 2003',\n 'Jun 27, 2003',\n 'Dec 25, 2003',\n 'Nov 14, 2003',\n 'Jul 2, 2003',\n 'Oct 8, 2003',\n 'Aug 15, 2003',\n 'Oct 3, 2003',\n 'Nov 26, 2003',\n 'Feb 21, 2003',\n 'Oct 10, 2003',\n 'Apr 18, 2003',\n 'Jan 17, 2003',\n 'Jul 11, 2003',\n 'Dec 10, 2003',\n 'Jul 25, 2003',\n 'Dec 19, 2003',\n 'Feb 7, 2003',\n 'Nov 26, 2003',\n 'Nov 21, 2003',\n 'Nov 7, 2003',\n 'Aug 15, 2003',\n 'Sep 12, 2003',\n 'Jan 10, 2003',\n 'Dec 25, 2003',\n 'Oct 24, 2003',\n 'Apr 25, 2003',\n 'Sep 19, 2003',\n 'Dec 25, 2003',\n 'Feb 14, 2003',\n 'Sep 26, 2003',\n 'Mar 14, 2003',\n 'Jan 31, 2003',\n 'Mar 7, 2003',\n 'Sep 26, 2003',\n 'May 2, 2003',\n 'Sep 19, 2003',\n 'Oct 3, 2003',\n 'Jun 13, 2003',\n 'Mar 28, 2003',\n 'Oct 10, 2003',\n 'Apr 4, 2003',\n 'Aug 29, 2003',\n 'Oct 10, 2003',\n 'Feb 28, 2003',\n 'Apr 18, 2003',\n 'Mar 14, 2003',\n 'Dec 12, 2003',\n 'Mar 21, 2003',\n 'Mar 28, 2003',\n 'Dec 5, 2003',\n 'Jun 13, 2003',\n 'Jul 18, 2003',\n 'Nov 26, 2003',\n 'Mar 28, 2003',\n 'Apr 4, 2003',\n 'Jul 2, 2003',\n 'Jun 13, 2003',\n 'Apr 16, 2003',\n 'Sep 5, 2003',\n 'Aug 22, 2003',\n 'Nov 14, 2003',\n 'Feb 21, 2003',\n 'Nov 26, 2003',\n 'Nov 21, 2003',\n 'Jan 17, 2003',\n 'Jun 20, 2003',\n 'Jul 18, 2003',\n 'Dec 19, 2003',\n 'Feb 21, 2003',\n 'Apr 25, 2003',\n 'Apr 18, 2003',\n 'Sep 26, 2003',\n 'May 19, 2004',\n 'Jun 30, 2004',\n 'Feb 25, 2004',\n 'Dec 22, 2004',\n 'Nov 5, 2004',\n 'Jun 4, 2004',\n 'Nov 10, 2004',\n 'May 28, 2004',\n 'Jul 23, 2004',\n 'Nov 19, 2004',\n 'Oct 1, 2004',\n 'Jul 16, 2004',\n 'May 14, 2004',\n 'Dec 10, 2004',\n 'Feb 13, 2004',\n 'May 7, 2004',\n 'Dec 17, 2004',\n 'Jun 18, 2004',\n 'Jul 30, 2004',\n 'Dec 17, 2004',\n 'Dec 15, 2004',\n 'Aug 6, 2004',\n 'Aug 11, 2004',\n 'Mar 5, 2004',\n 'Jan 16, 2004',\n 'Apr 30, 2004',\n 'Nov 19, 2004',\n 'Mar 26, 2004',\n 'Jul 9, 2004',\n 'Jun 25, 2004',\n 'Aug 13, 2004',\n 'Apr 23, 2004',\n 'Jun 18, 2004',\n 'Jun 11, 2004',\n 'Oct 29, 2004',\n 'Oct 1, 2004',\n 'Nov 24, 2004',\n 'Oct 22, 2004',\n 'Jun 23, 2004',\n 'Mar 5, 2004',\n 'Sep 24, 2004',\n 'Apr 16, 2004',\n 'Jul 30, 2004',\n 'Feb 6, 2004',\n 'Feb 6, 2004',\n 'Oct 8, 2004',\n 'Apr 2, 2004',\n 'Jun 11, 2004',\n 'Mar 19, 2004',\n 'Aug 20, 2004',\n 'Oct 15, 2004',\n 'Jun 11, 2004',\n 'Apr 23, 2004',\n 'Aug 27, 2004',\n 'Dec 8, 2004',\n 'Jul 7, 2004',\n 'Nov 12, 2004',\n 'Jul 16, 2004',\n 'Dec 22, 2004',\n 'Sep 10, 2004',\n 'Apr 2, 2004',\n 'Dec 25, 2004',\n 'Mar 12, 2004',\n 'Apr 2, 2004',\n 'Dec 29, 2004',\n 'Dec 17, 2004',\n 'Aug 20, 2004',\n 'Nov 12, 2004',\n 'Jul 23, 2004',\n 'Mar 26, 2004',\n 'Sep 17, 2004',\n 'May 28, 2004',\n 'Mar 19, 2004',\n 'Nov 24, 2004',\n 'Dec 3, 2004',\n 'Apr 16, 2004',\n 'Oct 15, 2004',\n 'Sep 10, 2004',\n 'Aug 27, 2004',\n 'Feb 20, 2004',\n 'Nov 12, 2004',\n 'Apr 2, 2004',\n 'Mar 26, 2004',\n 'Feb 27, 2004',\n 'Dec 10, 2004',\n 'Jun 16, 2004',\n 'Dec 22, 2004',\n 'Mar 12, 2004',\n 'Apr 9, 2004',\n 'Apr 9, 2004',\n 'Sep 17, 2004',\n 'Jan 16, 2004',\n 'Dec 17, 2004',\n 'Aug 6, 2004',\n 'Aug 13, 2004',\n 'Jun 25, 2004',\n 'Apr 30, 2004',\n 'Feb 20, 2004',\n 'Nov 12, 2004',\n 'Jan 23, 2004',\n 'May 19, 2005',\n 'Dec 9, 2005',\n 'Nov 18, 2005',\n 'Jun 29, 2005',\n 'Dec 14, 2005',\n 'Jul 15, 2005',\n 'Jun 15, 2005',\n 'Jul 15, 2005',\n 'May 27, 2005',\n 'Jun 10, 2005',\n 'Feb 11, 2005',\n 'May 27, 2005',\n 'Jul 8, 2005',\n 'Nov 4, 2005',\n 'Mar 11, 2005',\n 'Nov 18, 2005',\n 'Mar 4, 2005',\n 'Dec 21, 2005',\n 'Aug 19, 2005',\n 'Sep 23, 2005',\n 'May 13, 2005',\n 'Jan 21, 2005',\n 'Dec 21, 2005',\n 'Aug 5, 2005',\n 'Feb 18, 2005',\n 'Mar 18, 2005',\n 'Sep 9, 2005',\n 'Aug 12, 2005',\n 'Apr 1, 2005',\n 'Apr 22, 2005',\n 'Mar 25, 2005',\n 'Apr 8, 2005',\n 'Jan 14, 2005',\n 'Jun 22, 2005',\n 'Apr 15, 2005',\n 'Jul 29, 2005',\n 'Jun 24, 2005',\n 'Nov 4, 2005',\n 'Jun 3, 2005',\n 'Dec 16, 2005',\n 'Aug 19, 2005',\n 'Dec 9, 2005',\n 'Oct 5, 2005',\n 'Mar 4, 2005',\n 'Nov 23, 2005',\n 'Sep 23, 2005',\n 'May 13, 2005',\n 'Jan 28, 2005',\n 'Apr 29, 2005',\n 'Nov 23, 2005',\n 'Jan 14, 2005',\n 'Mar 24, 2005',\n 'Sep 16, 2005',\n 'Aug 12, 2005',\n 'May 6, 2005',\n 'Dec 23, 2005',\n 'Feb 4, 2005',\n 'Oct 28, 2005',\n 'Jul 29, 2005',\n 'Sep 2, 2005',\n 'Dec 25, 2005',\n 'Apr 8, 2005',\n 'Jun 10, 2005',\n 'Jun 1, 2005',\n 'Nov 11, 2005',\n 'Aug 26, 2005',\n 'Mar 30, 2005',\n 'Nov 11, 2005',\n 'Jul 22, 2005',\n 'Mar 11, 2005',\n 'Aug 31, 2005',\n 'Oct 21, 2005',\n 'Jul 22, 2005',\n 'Feb 18, 2005',\n 'Jul 29, 2005',\n 'May 6, 2005',\n 'Feb 4, 2005',\n 'Sep 23, 2005',\n 'Nov 9, 2005',\n 'Oct 14, 2005',\n 'Nov 23, 2005',\n 'Oct 21, 2005',\n 'Nov 11, 2005',\n 'Apr 29, 2005',\n 'Oct 14, 2005',\n 'Dec 2, 2005',\n 'Sep 30, 2005',\n 'Jul 8, 2005',\n 'May 13, 2005',\n 'Jan 14, 2005',\n 'Mar 18, 2005',\n 'Sep 16, 2005',\n 'Dec 28, 2005',\n 'Oct 7, 2005',\n 'Aug 12, 2005',\n 'Apr 22, 2005',\n 'Jun 24, 2005',\n 'Jan 19, 2005',\n 'Feb 25, 2005',\n 'Aug 19, 2005',\n 'Jul 7, 2006',\n 'Dec 22, 2006',\n 'Jun 9, 2006',\n 'May 26, 2006',\n 'May 19, 2006',\n 'Jun 28, 2006',\n 'Nov 17, 2006',\n 'Mar 31, 2006',\n 'Nov 17, 2006',\n 'Dec 15, 2006',\n 'May 19, 2006',\n 'Aug 4, 2006',\n 'Jun 23, 2006',\n 'May 5, 2006',\n 'Oct 6, 2006',\n 'Nov 3, 2006',\n 'Jun 30, 2006',\n 'Jun 2, 2006',\n 'Dec 15, 2006',\n 'Apr 14, 2006',\n 'Mar 10, 2006',\n 'Mar 24, 2006',\n 'Sep 29, 2006',\n 'Dec 15, 2006',\n 'Feb 10, 2006',\n 'Feb 17, 2006',\n 'Jun 16, 2006',\n 'Jul 14, 2006',\n 'Dec 15, 2006',\n 'Jul 21, 2006',\n 'Aug 4, 2006',\n 'Apr 28, 2006',\n 'Mar 17, 2006',\n 'Aug 9, 2006',\n 'Dec 20, 2006',\n 'Jan 27, 2006',\n 'Nov 3, 2006',\n 'Nov 22, 2006',\n 'Jul 28, 2006',\n 'Dec 8, 2006',\n 'Jun 16, 2006',\n 'Jan 20, 2006',\n 'Mar 10, 2006',\n 'May 12, 2006',\n 'Apr 7, 2006',\n 'Feb 10, 2006',\n 'Jul 14, 2006',\n 'Aug 25, 2006',\n 'Dec 8, 2006',\n 'Sep 30, 2006',\n 'Sep 29, 2006',\n 'Jun 6, 2006',\n 'Feb 10, 2006',\n 'Oct 20, 2006',\n 'Jun 16, 2006',\n 'Jan 13, 2006',\n 'Dec 8, 2006',\n 'Feb 10, 2006',\n 'Feb 17, 2006',\n 'Feb 3, 2006',\n 'Jan 27, 2006',\n 'Apr 21, 2006',\n 'Dec 22, 2006',\n 'Jan 13, 2006',\n 'Jul 21, 2006',\n 'Mar 10, 2006',\n 'Nov 10, 2006',\n 'Aug 18, 2006',\n 'Oct 6, 2006',\n 'Oct 13, 2006',\n 'Sep 15, 2006',\n 'Jan 13, 2006',\n 'Dec 29, 2006',\n 'Dec 1, 2006',\n 'Oct 13, 2006',\n 'Apr 14, 2006',\n 'Mar 3, 2006',\n 'Apr 21, 2006',\n 'Dec 25, 2006',\n 'Nov 22, 2006',\n 'Apr 7, 2006',\n 'Oct 27, 2006',\n 'Aug 18, 2006',\n 'Mar 17, 2006',\n 'Oct 20, 2006',\n 'Apr 28, 2006',\n 'Jun 16, 2006',\n 'Jul 28, 2006',\n 'Apr 28, 2006',\n 'Sep 8, 2006',\n 'Mar 24, 2006',\n 'Sep 15, 2006',\n 'Jul 21, 2006',\n 'Apr 7, 2006',\n 'Mar 31, 2006',\n 'Oct 20, 2006',\n 'Aug 11, 2006',\n 'Aug 25, 2006',\n 'Oct 13, 2006',\n 'Mar 3, 2006',\n 'May 4, 2007',\n 'May 17, 2007',\n 'Jul 2, 2007',\n 'May 24, 2007',\n 'Jul 11, 2007',\n 'Dec 14, 2007',\n 'Aug 3, 2007',\n 'Dec 14, 2007',\n 'Mar 9, 2007',\n 'Jun 29, 2007',\n 'Jul 27, 2007',\n 'Mar 2, 2007',\n 'Jun 1, 2007',\n 'Aug 10, 2007',\n 'Jun 27, 2007',\n 'Jun 15, 2007',\n 'Nov 2, 2007',\n 'Nov 21, 2007',\n 'Nov 2, 2007',\n 'Aug 17, 2007',\n 'Jul 20, 2007',\n 'Jul 20, 2007',\n 'Mar 30, 2007',\n 'Jun 8, 2007',\n 'Feb 16, 2007',\n 'Jun 22, 2007',\n 'Dec 25, 2007',\n 'Sep 28, 2007',\n 'Nov 16, 2007',\n 'Feb 16, 2007',\n 'Apr 13, 2007',\n 'Nov 9, 2007',\n 'Jun 22, 2007',\n 'Dec 7, 2007',\n 'Dec 21, 2007',\n 'Jun 8, 2007',\n 'Aug 31, 2007',\n 'Oct 12, 2007',\n 'Mar 23, 2007',\n 'Dec 21, 2007',\n 'Sep 7, 2007',\n 'Dec 7, 2007',\n 'Sep 21, 2007',\n 'Feb 14, 2007',\n 'Oct 5, 2007',\n 'Mar 16, 2007',\n 'Sep 28, 2007',\n 'Mar 23, 2007',\n 'Jul 3, 2007',\n 'Jul 27, 2007',\n 'Feb 2, 2007',\n 'Dec 25, 2007',\n 'Dec 25, 2007',\n 'Dec 26, 2007',\n 'Jan 26, 2007',\n 'Nov 21, 2007',\n 'Oct 19, 2007',\n 'Aug 10, 2007',\n 'Sep 14, 2007',\n 'Jan 5, 2007',\n 'Jan 26, 2007',\n 'Feb 2, 2007',\n 'Feb 23, 2007',\n 'Sep 21, 2007',\n 'Aug 24, 2007',\n 'Mar 2, 2007',\n 'Nov 21, 2007',\n 'Dec 25, 2007',\n 'May 11, 2007',\n 'Oct 12, 2007',\n 'Feb 9, 2007',\n 'Jun 15, 2007',\n 'Apr 5, 2007',\n 'Apr 6, 2007',\n 'Sep 14, 2007',\n 'Apr 20, 2007',\n 'Aug 24, 2007',\n 'Mar 23, 2007',\n 'Oct 19, 2007',\n 'Mar 23, 2007',\n 'May 11, 2007',\n 'Aug 3, 2007',\n 'Sep 21, 2007',\n 'Dec 21, 2007',\n 'Apr 27, 2007',\n 'Sep 14, 2007',\n 'Mar 16, 2007',\n 'Oct 12, 2007',\n 'Jan 5, 2007',\n 'Dec 14, 2007',\n 'Jan 12, 2007',\n 'Aug 17, 2007',\n 'Nov 9, 2007',\n 'Aug 3, 2007',\n 'Sep 7, 2007',\n 'Jun 29, 2007',\n 'Sep 21, 2007',\n 'Sep 14, 2007',\n 'Jun 8, 2007',\n 'Oct 19, 2007',\n 'Jul 18, 2008',\n 'May 2, 2008',\n 'May 22, 2008',\n 'Jul 1, 2008',\n 'Jun 27, 2008',\n 'Jun 6, 2008',\n 'Nov 21, 2008',\n 'Nov 7, 2008',\n 'Nov 14, 2008',\n 'Mar 14, 2008',\n 'May 30, 2008',\n 'Dec 12, 2008',\n 'Jul 18, 2008',\n 'Dec 25, 2008',\n 'May 16, 2008',\n 'Jun 13, 2008',\n 'Jun 27, 2008',\n 'Jun 20, 2008',\n 'Dec 25, 2008',\n 'Nov 26, 2008',\n 'Nov 21, 2008',\n 'Aug 13, 2008',\n 'Dec 25, 2008',\n 'Aug 1, 2008',\n 'Jul 11, 2008',\n 'Sep 26, 2008',\n 'Jul 25, 2008',\n 'Jun 6, 2008',\n 'Dec 19, 2008',\n 'Mar 7, 2008',\n 'Oct 3, 2008',\n 'Aug 6, 2008',\n 'Dec 25, 2008',\n 'Mar 28, 2008',\n 'May 9, 2008',\n 'Feb 14, 2008',\n 'Jan 18, 2008',\n 'Dec 12, 2008',\n 'Jan 18, 2008',\n 'Jul 11, 2008',\n 'Feb 22, 2008',\n 'Feb 14, 2008',\n 'Feb 8, 2008',\n 'Dec 19, 2008',\n 'Nov 7, 2008',\n 'Jun 13, 2008',\n 'Apr 18, 2008',\n 'Apr 25, 2008',\n 'Sep 12, 2008',\n 'Feb 14, 2008',\n 'Apr 18, 2008',\n 'Dec 19, 2008',\n 'Nov 26, 2008',\n 'Aug 22, 2008',\n 'Apr 4, 2008',\n 'May 2, 2008',\n 'Aug 6, 2008',\n 'May 9, 2008',\n 'Apr 11, 2008',\n 'Jan 25, 2008',\n 'Feb 8, 2008',\n 'Mar 21, 2008',\n 'Oct 17, 2008',\n 'Sep 12, 2008',\n 'Oct 10, 2008',\n 'Sep 19, 2008',\n 'Jan 25, 2008',\n 'Aug 22, 2008',\n 'Oct 24, 2008',\n 'Dec 10, 2008',\n 'Feb 29, 2008',\n 'Dec 12, 2008',\n 'Mar 21, 2008',\n 'Jun 20, 2008',\n 'Nov 26, 2008',\n 'Nov 26, 2008',\n 'Oct 31, 2008',\n 'Apr 4, 2008',\n 'Aug 15, 2008',\n 'Jul 18, 2008',\n 'Mar 7, 2008',\n 'Jan 25, 2008',\n 'Sep 12, 2008',\n 'Jan 4, 2008',\n 'Feb 29, 2008',\n 'Mar 28, 2008',\n 'Apr 11, 2008',\n 'Oct 17, 2008',\n 'Mar 14, 2008',\n 'Aug 27, 2008',\n 'Aug 15, 2008',\n 'Dec 26, 2008',\n 'Aug 29, 2008',\n 'Jul 25, 2008',\n 'Jan 18, 2008',\n 'Sep 19, 2008',\n 'Dec 25, 2008',\n 'Sep 19, 2008',\n 'Sep 19, 2008',\n 'Dec 5, 2008',\n 'Dec 18, 2009',\n 'Jun 24, 2009',\n 'Jul 15, 2009',\n 'Nov 20, 2009',\n 'May 29, 2009',\n 'Jun 5, 2009',\n 'May 8, 2009',\n 'Nov 20, 2009',\n 'Dec 23, 2009',\n 'Dec 25, 2009',\n 'Mar 27, 2009',\n 'Jul 1, 2009',\n 'May 1, 2009',\n 'May 22, 2009',\n 'Nov 13, 2009',\n 'Jun 19, 2009',\n 'Apr 3, 2009',\n 'Aug 7, 2009',\n 'Jan 16, 2009',\n 'Jan 30, 2009',\n 'Nov 6, 2009',\n 'May 15, 2009',\n 'May 21, 2009',\n 'Sep 18, 2009',\n 'Aug 21, 2009',\n 'Jul 24, 2009',\n 'Aug 14, 2009',\n 'Dec 25, 2009',\n 'Oct 9, 2009',\n 'Mar 6, 2009',\n 'Nov 25, 2009',\n 'Jul 1, 2009',\n 'Aug 7, 2009',\n 'Feb 6, 2009',\n 'Feb 20, 2009',\n 'Jul 24, 2009',\n 'Dec 4, 2009',\n 'Mar 20, 2009',\n 'Apr 10, 2009',\n 'Oct 16, 2009',\n 'Oct 2, 2009',\n 'Feb 6, 2009',\n 'Oct 16, 2009',\n 'Jan 16, 2009',\n 'Oct 28, 2009',\n 'Mar 20, 2009',\n 'Apr 24, 2009',\n 'Mar 13, 2009',\n 'Aug 28, 2009',\n 'Jun 12, 2009',\n 'Feb 13, 2009',\n 'Apr 17, 2009',\n 'Aug 14, 2009',\n 'Jul 10, 2009',\n 'Jan 9, 2009',\n 'Jul 31, 2009',\n 'Sep 11, 2009',\n 'Nov 25, 2009',\n 'Jun 5, 2009',\n 'Jun 26, 2009',\n 'Jan 23, 2009',\n 'Dec 11, 2009',\n 'Jun 19, 2009',\n 'Jan 9, 2009',\n 'Nov 20, 2009',\n 'May 29, 2009',\n 'Jul 24, 2009',\n 'Mar 20, 2009',\n 'Sep 25, 2009',\n 'Nov 25, 2009',\n 'Dec 11, 2009',\n 'Apr 17, 2009',\n 'Jan 16, 2009',\n 'Sep 4, 2009',\n 'Aug 28, 2009',\n 'Sep 18, 2009',\n 'Mar 13, 2009',\n 'Nov 6, 2009',\n 'Apr 22, 2009',\n 'Apr 24, 2009',\n 'Feb 6, 2009',\n 'Sep 9, 2009',\n 'Dec 18, 2009',\n 'Oct 16, 2009',\n 'Jan 16, 2009',\n 'Dec 4, 2009',\n 'May 22, 2009',\n 'Feb 13, 2009',\n 'Jul 31, 2009',\n 'Apr 10, 2009',\n 'Apr 24, 2009',\n 'Sep 18, 2009',\n 'Sep 25, 2009',\n 'Nov 13, 2009',\n 'Aug 21, 2009',\n 'Sep 4, 2009',\n 'Dec 18, 2009',\n 'Oct 23, 2009',\n 'Oct 2, 2009',\n 'Jan 23, 2009',\n ...]"
     },
     "execution_count": 10,
     "metadata": {},
     "output_type": "execute_result"
    }
   ],
   "source": [
    "# generate title list for api seach\n",
    "titles = num_df['Title'].tolist()\n",
    "print(titles[0])\n",
    "# Set up release date list incase of duplicate title\n",
    "release = num_df['Released'].tolist()\n",
    "release"
   ]
  },
  {
   "cell_type": "code",
   "execution_count": 21,
   "metadata": {},
   "outputs": [
    {
     "data": {
      "text/plain": "{'Title': 'Limitless',\n 'Year': '2011',\n 'Rated': 'PG-13',\n 'Released': '18 Mar 2011',\n 'Runtime': '105 min',\n 'Genre': 'Sci-Fi, Thriller',\n 'Director': 'Neil Burger',\n 'Writer': 'Leslie Dixon (screenplay), Alan Glynn (novel)',\n 'Actors': 'Bradley Cooper, Robert De Niro, Abbie Cornish, Andrew Howard',\n 'Plot': 'With the help of a mysterious pill that enables the user to access one hundred percent of his brain abilities, a struggling writer becomes a financial wizard, but it also puts him in a new world with lots of dangers.',\n 'Language': 'English, Russian, Italian, Mandarin, French',\n 'Country': 'USA',\n 'Awards': '2 wins & 8 nominations.',\n 'Poster': 'https://m.media-amazon.com/images/M/MV5BYmViZGM0MGItZTdiYi00ZDU4LWIxNDYtNTc1NWQ5Njc2N2YwXkEyXkFqcGdeQXVyNDk3NzU2MTQ@._V1_SX300.jpg',\n 'Ratings': [{'Source': 'Internet Movie Database', 'Value': '7.4/10'},\n  {'Source': 'Rotten Tomatoes', 'Value': '69%'},\n  {'Source': 'Metacritic', 'Value': '59/100'}],\n 'Metascore': '59',\n 'imdbRating': '7.4',\n 'imdbVotes': '506,951',\n 'imdbID': 'tt1219289',\n 'Type': 'movie',\n 'DVD': '19 Jul 2011',\n 'BoxOffice': '$79,230,923',\n 'Production': 'Relativity Media',\n 'Website': 'N/A',\n 'Response': 'True'}"
     },
     "execution_count": 21,
     "metadata": {},
     "output_type": "execute_result"
    }
   ],
   "source": [
    "# test run\n",
    "url = f\"http://www.omdbapi.com/?apikey={api_key}&t=\"\n",
    "response = requests.get(url + titles[1139]).json()\n",
    "response"
   ]
  },
  {
   "cell_type": "code",
   "execution_count": 12,
   "metadata": {},
   "outputs": [
    {
     "data": {
      "text/plain": "{'Title': 'How the Grinch Stole Christmas',\n 'Year': '2000',\n 'Rated': 'PG',\n 'Released': '17 Nov 2000',\n 'Runtime': '104 min',\n 'Genre': 'Comedy, Family, Fantasy',\n 'Director': 'Ron Howard',\n 'Writer': 'Dr. Seuss (book), Jeffrey Price (screenplay), Peter S. Seaman (screenplay)',\n 'Actors': 'Jim Carrey, Taylor Momsen, Kelley, Jeffrey Tambor',\n 'Plot': 'On the outskirts of Whoville lives a green, revenge-seeking Grinch who plans to ruin Christmas for all of the citizens of the town.',\n 'Language': 'English',\n 'Country': 'USA',\n 'Awards': 'Won 1 Oscar. Another 17 wins & 37 nominations.',\n 'Poster': 'https://m.media-amazon.com/images/M/MV5BNWNiNTczNzEtMjQyZC00MjFmLTkzMDMtODk4ZGMyZmE0N2E4XkEyXkFqcGdeQXVyMTMxODk2OTU@._V1_SX300.jpg',\n 'Ratings': [{'Source': 'Internet Movie Database', 'Value': '6.1/10'},\n  {'Source': 'Rotten Tomatoes', 'Value': '50%'},\n  {'Source': 'Metacritic', 'Value': '46/100'}],\n 'Metascore': '46',\n 'imdbRating': '6.1',\n 'imdbVotes': '193,860',\n 'imdbID': 'tt0170016',\n 'Type': 'movie',\n 'DVD': '20 Nov 2001',\n 'BoxOffice': '$259,011,600',\n 'Production': 'Universal Pictures',\n 'Website': 'N/A',\n 'Response': 'True'}"
     },
     "execution_count": 12,
     "metadata": {},
     "output_type": "execute_result"
    }
   ],
   "source": [
    "# looking at json\n",
    "response"
   ]
  },
  {
   "cell_type": "code",
   "execution_count": 7,
   "metadata": {},
   "outputs": [],
   "source": [
    "# empty lists for dataframe construction\n",
    "ratings=[]\n",
    "awards=[]\n",
    "rated=[]\n",
    "runtime=[]\n",
    "genre=[]\n",
    "metascore=[]\n",
    "imdbRating=[]\n",
    "imdbVotes=[]\n",
    "imdbID=[]\n",
    "titles_edit=[]\n",
    "responses=[]\n",
    "release_edit=[]\n"
   ]
  },
  {
   "cell_type": "code",
   "execution_count": 22,
   "metadata": {},
   "outputs": [
    {
     "name": "stdout",
     "output_type": "stream",
     "text": "Movie not found, title=Extremely Loud and Incredibly Close\nMovie not found, title=Doctor Seuss' The Lorax\nMovie not found, title=Tyler Perry's Madea's Witness Protection\nMovie not found, title=Disney Planes\nMovie not found, title=Planes: Fire and Rescue\nMovie not found, title=Tyler Perry’s Boo 2! A Madea Halloween\n"
    }
   ],
   "source": [
    "# forloop for api call, limit to 1000 calls a day\n",
    "for i in range(900,1800):\n",
    "    response = requests.get(url + titles[i]).json()\n",
    "    responses.append(response)\n",
    "    try:\n",
    "        ratings.append(response['Ratings'])\n",
    "        awards.append(response['Awards'])\n",
    "        rated.append(response['Rated'])\n",
    "        runtime.append(response['Runtime'])\n",
    "        genre.append(response['Genre'])\n",
    "        metascore.append(response['Metascore'])\n",
    "        imdbRating.append(response['imdbRating'])\n",
    "        imdbVotes.append(response['imdbVotes'])\n",
    "        imdbID.append (response['imdbID'])\n",
    "        titles_edit.append(titles[i])\n",
    "        release_edit.append(release[i])\n",
    "    except:\n",
    "        print(f\"Movie not found, title={titles[i]}\")"
   ]
  },
  {
   "cell_type": "code",
   "execution_count": 53,
   "metadata": {},
   "outputs": [
    {
     "data": {
      "text/plain": "{'Title': 'Limitless',\n 'Year': '2011',\n 'Rated': 'PG-13',\n 'Released': '18 Mar 2011',\n 'Runtime': '105 min',\n 'Genre': 'Sci-Fi, Thriller',\n 'Director': 'Neil Burger',\n 'Writer': 'Leslie Dixon (screenplay), Alan Glynn (novel)',\n 'Actors': 'Bradley Cooper, Robert De Niro, Abbie Cornish, Andrew Howard',\n 'Plot': 'With the help of a mysterious pill that enables the user to access one hundred percent of his brain abilities, a struggling writer becomes a financial wizard, but it also puts him in a new world with lots of dangers.',\n 'Language': 'English, Russian, Italian, Mandarin, French',\n 'Country': 'USA',\n 'Awards': '2 wins & 8 nominations.',\n 'Poster': 'https://m.media-amazon.com/images/M/MV5BYmViZGM0MGItZTdiYi00ZDU4LWIxNDYtNTc1NWQ5Njc2N2YwXkEyXkFqcGdeQXVyNDk3NzU2MTQ@._V1_SX300.jpg',\n 'Ratings': [{'Source': 'Internet Movie Database', 'Value': '7.4/10'},\n  {'Source': 'Rotten Tomatoes', 'Value': '69%'},\n  {'Source': 'Metacritic', 'Value': '59/100'}],\n 'Metascore': '59',\n 'imdbRating': '7.4',\n 'imdbVotes': '506,951',\n 'imdbID': 'tt1219289',\n 'Type': 'movie',\n 'DVD': '19 Jul 2011',\n 'BoxOffice': '$79,230,923',\n 'Production': 'Relativity Media',\n 'Website': 'N/A',\n 'Response': 'True'}"
     },
     "execution_count": 53,
     "metadata": {},
     "output_type": "execute_result"
    }
   ],
   "source": [
    "# Testing cell\n",
    "responses[239]"
   ]
  },
  {
   "cell_type": "code",
   "execution_count": 52,
   "metadata": {},
   "outputs": [
    {
     "data": {
      "text/html": "<div>\n<style scoped>\n    .dataframe tbody tr th:only-of-type {\n        vertical-align: middle;\n    }\n\n    .dataframe tbody tr th {\n        vertical-align: top;\n    }\n\n    .dataframe thead th {\n        text-align: right;\n    }\n</style>\n<table border=\"1\" class=\"dataframe\">\n  <thead>\n    <tr style=\"text-align: right;\">\n      <th></th>\n      <th>Title</th>\n      <th>Released</th>\n      <th>ratings</th>\n      <th>awards</th>\n      <th>rated</th>\n      <th>runtime</th>\n      <th>genere</th>\n      <th>metascore</th>\n      <th>imdbRating</th>\n      <th>imdbVotes</th>\n      <th>imdbID</th>\n    </tr>\n  </thead>\n  <tbody>\n    <tr>\n      <td>239</td>\n      <td>Limitless</td>\n      <td>Mar 18, 2011</td>\n      <td>[{'Source': 'Internet Movie Database', 'Value'...</td>\n      <td>2 wins &amp; 8 nominations.</td>\n      <td>PG-13</td>\n      <td>105 min</td>\n      <td>Sci-Fi, Thriller</td>\n      <td>59</td>\n      <td>7.4</td>\n      <td>506,951</td>\n      <td>tt1219289</td>\n    </tr>\n  </tbody>\n</table>\n</div>",
      "text/plain": "         Title      Released  \\\n239  Limitless  Mar 18, 2011   \n\n                                               ratings  \\\n239  [{'Source': 'Internet Movie Database', 'Value'...   \n\n                      awards  rated  runtime            genere metascore  \\\n239  2 wins & 8 nominations.  PG-13  105 min  Sci-Fi, Thriller        59   \n\n    imdbRating imdbVotes     imdbID  \n239        7.4   506,951  tt1219289  "
     },
     "execution_count": 52,
     "metadata": {},
     "output_type": "execute_result"
    }
   ],
   "source": [
    "omdb_df.loc[omdb_df.index==239]"
   ]
  },
  {
   "cell_type": "code",
   "execution_count": 25,
   "metadata": {},
   "outputs": [
    {
     "data": {
      "text/html": "<div>\n<style scoped>\n    .dataframe tbody tr th:only-of-type {\n        vertical-align: middle;\n    }\n\n    .dataframe tbody tr th {\n        vertical-align: top;\n    }\n\n    .dataframe thead th {\n        text-align: right;\n    }\n</style>\n<table border=\"1\" class=\"dataframe\">\n  <thead>\n    <tr style=\"text-align: right;\">\n      <th></th>\n      <th>Title</th>\n      <th>Released</th>\n      <th>ratings</th>\n      <th>awards</th>\n      <th>rated</th>\n      <th>runtime</th>\n      <th>genere</th>\n      <th>metascore</th>\n      <th>imdbRating</th>\n      <th>imdbVotes</th>\n      <th>imdbID</th>\n    </tr>\n  </thead>\n  <tbody>\n    <tr>\n      <td>0</td>\n      <td>Avatar</td>\n      <td>Dec 18, 2009</td>\n      <td>[{'Source': 'Internet Movie Database', 'Value'...</td>\n      <td>Won 3 Oscars. Another 86 wins &amp; 129 nominations.</td>\n      <td>PG-13</td>\n      <td>162 min</td>\n      <td>Action, Adventure, Fantasy, Sci-Fi</td>\n      <td>83</td>\n      <td>7.8</td>\n      <td>1,078,016</td>\n      <td>tt0499549</td>\n    </tr>\n    <tr>\n      <td>1</td>\n      <td>Transformers: Revenge of the Fallen</td>\n      <td>Jun 24, 2009</td>\n      <td>[{'Source': 'Internet Movie Database', 'Value'...</td>\n      <td>Nominated for 1 Oscar. Another 15 wins &amp; 27 no...</td>\n      <td>PG-13</td>\n      <td>150 min</td>\n      <td>Action, Adventure, Sci-Fi</td>\n      <td>35</td>\n      <td>6.0</td>\n      <td>371,781</td>\n      <td>tt1055369</td>\n    </tr>\n    <tr>\n      <td>2</td>\n      <td>Harry Potter and the Half-Blood Prince</td>\n      <td>Jul 15, 2009</td>\n      <td>[{'Source': 'Internet Movie Database', 'Value'...</td>\n      <td>Nominated for 1 Oscar. Another 8 wins &amp; 35 nom...</td>\n      <td>PG</td>\n      <td>153 min</td>\n      <td>Action, Adventure, Family, Fantasy, Mystery</td>\n      <td>78</td>\n      <td>7.6</td>\n      <td>439,445</td>\n      <td>tt0417741</td>\n    </tr>\n    <tr>\n      <td>3</td>\n      <td>The Twilight Saga: New Moon</td>\n      <td>Nov 20, 2009</td>\n      <td>[{'Source': 'Internet Movie Database', 'Value'...</td>\n      <td>20 wins &amp; 24 nominations.</td>\n      <td>PG-13</td>\n      <td>130 min</td>\n      <td>Adventure, Drama, Fantasy, Mystery, Romance</td>\n      <td>44</td>\n      <td>4.7</td>\n      <td>254,666</td>\n      <td>tt1259571</td>\n    </tr>\n    <tr>\n      <td>4</td>\n      <td>Up</td>\n      <td>May 29, 2009</td>\n      <td>[{'Source': 'Internet Movie Database', 'Value'...</td>\n      <td>Won 2 Oscars. Another 78 wins &amp; 82 nominations.</td>\n      <td>PG</td>\n      <td>96 min</td>\n      <td>Animation, Adventure, Comedy, Family</td>\n      <td>88</td>\n      <td>8.2</td>\n      <td>882,822</td>\n      <td>tt1049413</td>\n    </tr>\n    <tr>\n      <td>...</td>\n      <td>...</td>\n      <td>...</td>\n      <td>...</td>\n      <td>...</td>\n      <td>...</td>\n      <td>...</td>\n      <td>...</td>\n      <td>...</td>\n      <td>...</td>\n      <td>...</td>\n      <td>...</td>\n    </tr>\n    <tr>\n      <td>889</td>\n      <td>Rock Dog</td>\n      <td>Feb 24, 2017</td>\n      <td>[{'Source': 'Internet Movie Database', 'Value'...</td>\n      <td>3 nominations.</td>\n      <td>PG</td>\n      <td>90 min</td>\n      <td>Animation, Adventure, Comedy, Family, Music</td>\n      <td>48</td>\n      <td>5.9</td>\n      <td>4,252</td>\n      <td>tt2822672</td>\n    </tr>\n    <tr>\n      <td>890</td>\n      <td>The Lost City of Z</td>\n      <td>Apr 14, 2017</td>\n      <td>[{'Source': 'Internet Movie Database', 'Value'...</td>\n      <td>6 wins &amp; 29 nominations.</td>\n      <td>PG-13</td>\n      <td>141 min</td>\n      <td>Biography, Drama, History</td>\n      <td>78</td>\n      <td>6.6</td>\n      <td>71,426</td>\n      <td>tt1212428</td>\n    </tr>\n    <tr>\n      <td>891</td>\n      <td>The Promise</td>\n      <td>Apr 21, 2017</td>\n      <td>[{'Source': 'Internet Movie Database', 'Value'...</td>\n      <td>2 wins &amp; 4 nominations.</td>\n      <td>PG-13</td>\n      <td>133 min</td>\n      <td>Action, Adventure, Drama, History, War</td>\n      <td>49</td>\n      <td>5.9</td>\n      <td>165,602</td>\n      <td>tt4776998</td>\n    </tr>\n    <tr>\n      <td>892</td>\n      <td>The Space Between Us</td>\n      <td>Feb 3, 2017</td>\n      <td>[{'Source': 'Internet Movie Database', 'Value'...</td>\n      <td>4 nominations.</td>\n      <td>PG-13</td>\n      <td>120 min</td>\n      <td>Drama, Romance, Sci-Fi</td>\n      <td>33</td>\n      <td>6.4</td>\n      <td>44,396</td>\n      <td>tt3922818</td>\n    </tr>\n    <tr>\n      <td>893</td>\n      <td>Birth of the Dragon</td>\n      <td>Aug 25, 2017</td>\n      <td>[{'Source': 'Internet Movie Database', 'Value'...</td>\n      <td>1 win.</td>\n      <td>PG-13</td>\n      <td>95 min</td>\n      <td>Action, Biography, Drama</td>\n      <td>35</td>\n      <td>5.5</td>\n      <td>6,589</td>\n      <td>tt2720826</td>\n    </tr>\n  </tbody>\n</table>\n<p>894 rows × 11 columns</p>\n</div>",
      "text/plain": "                                      Title      Released  \\\n0                                    Avatar  Dec 18, 2009   \n1       Transformers: Revenge of the Fallen  Jun 24, 2009   \n2    Harry Potter and the Half-Blood Prince  Jul 15, 2009   \n3               The Twilight Saga: New Moon  Nov 20, 2009   \n4                                        Up  May 29, 2009   \n..                                      ...           ...   \n889                                Rock Dog  Feb 24, 2017   \n890                      The Lost City of Z  Apr 14, 2017   \n891                             The Promise  Apr 21, 2017   \n892                    The Space Between Us   Feb 3, 2017   \n893                     Birth of the Dragon  Aug 25, 2017   \n\n                                               ratings  \\\n0    [{'Source': 'Internet Movie Database', 'Value'...   \n1    [{'Source': 'Internet Movie Database', 'Value'...   \n2    [{'Source': 'Internet Movie Database', 'Value'...   \n3    [{'Source': 'Internet Movie Database', 'Value'...   \n4    [{'Source': 'Internet Movie Database', 'Value'...   \n..                                                 ...   \n889  [{'Source': 'Internet Movie Database', 'Value'...   \n890  [{'Source': 'Internet Movie Database', 'Value'...   \n891  [{'Source': 'Internet Movie Database', 'Value'...   \n892  [{'Source': 'Internet Movie Database', 'Value'...   \n893  [{'Source': 'Internet Movie Database', 'Value'...   \n\n                                                awards  rated  runtime  \\\n0     Won 3 Oscars. Another 86 wins & 129 nominations.  PG-13  162 min   \n1    Nominated for 1 Oscar. Another 15 wins & 27 no...  PG-13  150 min   \n2    Nominated for 1 Oscar. Another 8 wins & 35 nom...     PG  153 min   \n3                            20 wins & 24 nominations.  PG-13  130 min   \n4      Won 2 Oscars. Another 78 wins & 82 nominations.     PG   96 min   \n..                                                 ...    ...      ...   \n889                                     3 nominations.     PG   90 min   \n890                           6 wins & 29 nominations.  PG-13  141 min   \n891                            2 wins & 4 nominations.  PG-13  133 min   \n892                                     4 nominations.  PG-13  120 min   \n893                                             1 win.  PG-13   95 min   \n\n                                          genere metascore imdbRating  \\\n0             Action, Adventure, Fantasy, Sci-Fi        83        7.8   \n1                      Action, Adventure, Sci-Fi        35        6.0   \n2    Action, Adventure, Family, Fantasy, Mystery        78        7.6   \n3    Adventure, Drama, Fantasy, Mystery, Romance        44        4.7   \n4           Animation, Adventure, Comedy, Family        88        8.2   \n..                                           ...       ...        ...   \n889  Animation, Adventure, Comedy, Family, Music        48        5.9   \n890                    Biography, Drama, History        78        6.6   \n891       Action, Adventure, Drama, History, War        49        5.9   \n892                       Drama, Romance, Sci-Fi        33        6.4   \n893                     Action, Biography, Drama        35        5.5   \n\n     imdbVotes     imdbID  \n0    1,078,016  tt0499549  \n1      371,781  tt1055369  \n2      439,445  tt0417741  \n3      254,666  tt1259571  \n4      882,822  tt1049413  \n..         ...        ...  \n889      4,252  tt2822672  \n890     71,426  tt1212428  \n891    165,602  tt4776998  \n892     44,396  tt3922818  \n893      6,589  tt2720826  \n\n[894 rows x 11 columns]"
     },
     "execution_count": 25,
     "metadata": {},
     "output_type": "execute_result"
    }
   ],
   "source": [
    "# Create dataframe from api data\n",
    "omdb_df =pd.DataFrame({'Title':titles_edit,\n",
    "                        'Released':release_edit,\n",
    "                        'ratings':ratings,\n",
    "                        'awards':awards,\n",
    "                        'rated':rated,\n",
    "                        'runtime':runtime,\n",
    "                        'genere':genre,\n",
    "                        'metascore':metascore,\n",
    "                        'imdbRating':imdbRating,\n",
    "                        'imdbVotes':imdbVotes,\n",
    "                        'imdbID':imdbID})\n",
    "omdb_df"
   ]
  },
  {
   "cell_type": "code",
   "execution_count": 54,
   "metadata": {},
   "outputs": [
    {
     "data": {
      "text/html": "<div>\n<style scoped>\n    .dataframe tbody tr th:only-of-type {\n        vertical-align: middle;\n    }\n\n    .dataframe tbody tr th {\n        vertical-align: top;\n    }\n\n    .dataframe thead th {\n        text-align: right;\n    }\n</style>\n<table border=\"1\" class=\"dataframe\">\n  <thead>\n    <tr style=\"text-align: right;\">\n      <th></th>\n      <th>Title</th>\n      <th>Released</th>\n      <th>ratings</th>\n      <th>awards</th>\n      <th>rated</th>\n      <th>runtime</th>\n      <th>genere</th>\n      <th>metascore</th>\n      <th>imdbRating</th>\n      <th>imdbVotes</th>\n      <th>imdbID</th>\n      <th>nominations</th>\n    </tr>\n  </thead>\n  <tbody>\n    <tr>\n      <td>0</td>\n      <td>Avatar</td>\n      <td>Dec 18, 2009</td>\n      <td>[{'Source': 'Internet Movie Database', 'Value'...</td>\n      <td>Won 3 Oscars. Another 86 wins &amp; 129 nominations.</td>\n      <td>PG-13</td>\n      <td>162 min</td>\n      <td>Action, Adventure, Fantasy, Sci-Fi</td>\n      <td>83</td>\n      <td>7.8</td>\n      <td>1,078,016</td>\n      <td>tt0499549</td>\n      <td>129</td>\n    </tr>\n    <tr>\n      <td>1</td>\n      <td>Transformers: Revenge of the Fallen</td>\n      <td>Jun 24, 2009</td>\n      <td>[{'Source': 'Internet Movie Database', 'Value'...</td>\n      <td>Nominated for 1 Oscar. Another 15 wins &amp; 27 no...</td>\n      <td>PG-13</td>\n      <td>150 min</td>\n      <td>Action, Adventure, Sci-Fi</td>\n      <td>35</td>\n      <td>6.0</td>\n      <td>371,781</td>\n      <td>tt1055369</td>\n      <td>27</td>\n    </tr>\n    <tr>\n      <td>2</td>\n      <td>Harry Potter and the Half-Blood Prince</td>\n      <td>Jul 15, 2009</td>\n      <td>[{'Source': 'Internet Movie Database', 'Value'...</td>\n      <td>Nominated for 1 Oscar. Another 8 wins &amp; 35 nom...</td>\n      <td>PG</td>\n      <td>153 min</td>\n      <td>Action, Adventure, Family, Fantasy, Mystery</td>\n      <td>78</td>\n      <td>7.6</td>\n      <td>439,445</td>\n      <td>tt0417741</td>\n      <td>35</td>\n    </tr>\n    <tr>\n      <td>3</td>\n      <td>The Twilight Saga: New Moon</td>\n      <td>Nov 20, 2009</td>\n      <td>[{'Source': 'Internet Movie Database', 'Value'...</td>\n      <td>20 wins &amp; 24 nominations.</td>\n      <td>PG-13</td>\n      <td>130 min</td>\n      <td>Adventure, Drama, Fantasy, Mystery, Romance</td>\n      <td>44</td>\n      <td>4.7</td>\n      <td>254,666</td>\n      <td>tt1259571</td>\n      <td>24</td>\n    </tr>\n    <tr>\n      <td>4</td>\n      <td>Up</td>\n      <td>May 29, 2009</td>\n      <td>[{'Source': 'Internet Movie Database', 'Value'...</td>\n      <td>Won 2 Oscars. Another 78 wins &amp; 82 nominations.</td>\n      <td>PG</td>\n      <td>96 min</td>\n      <td>Animation, Adventure, Comedy, Family</td>\n      <td>88</td>\n      <td>8.2</td>\n      <td>882,822</td>\n      <td>tt1049413</td>\n      <td>82</td>\n    </tr>\n  </tbody>\n</table>\n</div>",
      "text/plain": "                                    Title      Released  \\\n0                                  Avatar  Dec 18, 2009   \n1     Transformers: Revenge of the Fallen  Jun 24, 2009   \n2  Harry Potter and the Half-Blood Prince  Jul 15, 2009   \n3             The Twilight Saga: New Moon  Nov 20, 2009   \n4                                      Up  May 29, 2009   \n\n                                             ratings  \\\n0  [{'Source': 'Internet Movie Database', 'Value'...   \n1  [{'Source': 'Internet Movie Database', 'Value'...   \n2  [{'Source': 'Internet Movie Database', 'Value'...   \n3  [{'Source': 'Internet Movie Database', 'Value'...   \n4  [{'Source': 'Internet Movie Database', 'Value'...   \n\n                                              awards  rated  runtime  \\\n0   Won 3 Oscars. Another 86 wins & 129 nominations.  PG-13  162 min   \n1  Nominated for 1 Oscar. Another 15 wins & 27 no...  PG-13  150 min   \n2  Nominated for 1 Oscar. Another 8 wins & 35 nom...     PG  153 min   \n3                          20 wins & 24 nominations.  PG-13  130 min   \n4    Won 2 Oscars. Another 78 wins & 82 nominations.     PG   96 min   \n\n                                        genere metascore imdbRating  \\\n0           Action, Adventure, Fantasy, Sci-Fi        83        7.8   \n1                    Action, Adventure, Sci-Fi        35        6.0   \n2  Action, Adventure, Family, Fantasy, Mystery        78        7.6   \n3  Adventure, Drama, Fantasy, Mystery, Romance        44        4.7   \n4         Animation, Adventure, Comedy, Family        88        8.2   \n\n   imdbVotes     imdbID nominations  \n0  1,078,016  tt0499549         129  \n1    371,781  tt1055369          27  \n2    439,445  tt0417741          35  \n3    254,666  tt1259571          24  \n4    882,822  tt1049413          82  "
     },
     "execution_count": 54,
     "metadata": {},
     "output_type": "execute_result"
    }
   ],
   "source": [
    "# A quick parsing script to extract nominations in int form\n",
    "nom_list=[]\n",
    "x=0\n",
    "for index, row in omdb_df.iterrows():\n",
    "    mov=row['awards']\n",
    "    try:\n",
    "        award=str(mov)\n",
    "        end=award.find('nominations')\n",
    "        if end == -1:\n",
    "            nom_list.append(np.nan)\n",
    "            x +=1\n",
    "        else:\n",
    "            start=award[:end-1].rfind(' ')\n",
    "            nom_list.append(award[start+1:end-1])\n",
    "    except:\n",
    "        print('error')\n",
    "#add to df\n",
    "omdb_df[\"nominations\"]=nom_list\n",
    "omdb_df.head()"
   ]
  },
  {
   "cell_type": "code",
   "execution_count": 55,
   "metadata": {},
   "outputs": [],
   "source": [
    "omdb_df.to_csv('../data_files/last900_fix.csv')\n"
   ]
  },
  {
   "cell_type": "code",
   "execution_count": null,
   "metadata": {},
   "outputs": [],
   "source": []
  }
 ],
 "metadata": {
  "kernelspec": {
   "display_name": "Python 3",
   "language": "python",
   "name": "python3"
  },
  "language_info": {
   "codemirror_mode": {
    "name": "ipython",
    "version": 3
   },
   "file_extension": ".py",
   "mimetype": "text/x-python",
   "name": "python",
   "nbconvert_exporter": "python",
   "pygments_lexer": "ipython3",
   "version": "3.7.4-final"
  },
  "varInspector": {
   "cols": {
    "lenName": 16,
    "lenType": 16,
    "lenVar": 40
   },
   "kernels_config": {
    "python": {
     "delete_cmd_postfix": "",
     "delete_cmd_prefix": "del ",
     "library": "var_list.py",
     "varRefreshCmd": "print(var_dic_list())"
    },
    "r": {
     "delete_cmd_postfix": ") ",
     "delete_cmd_prefix": "rm(",
     "library": "var_list.r",
     "varRefreshCmd": "cat(var_dic_list()) "
    }
   },
   "types_to_exclude": [
    "module",
    "function",
    "builtin_function_or_method",
    "instance",
    "_Feature"
   ],
   "window_display": false
  }
 },
 "nbformat": 4,
 "nbformat_minor": 2
}