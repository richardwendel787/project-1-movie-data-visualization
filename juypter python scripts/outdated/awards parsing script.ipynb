{
 "cells": [
  {
   "cell_type": "code",
   "execution_count": 9,
   "metadata": {},
   "outputs": [],
   "source": [
    "# A quick and short script to grab nominations from messy data\n",
    "\n",
    "# Dependencies\n",
    "import requests\n",
    "import pandas as pd\n",
    "import numpy as np\n",
    "\n",
    "\n",
    "# read in csv file for title lis\n",
    "num_csv = \"../data_files/last900.csv\"\n"
   ]
  },
  {
   "cell_type": "code",
   "execution_count": 10,
   "metadata": {},
   "outputs": [
    {
     "data": {
      "text/html": "<div>\n<style scoped>\n    .dataframe tbody tr th:only-of-type {\n        vertical-align: middle;\n    }\n\n    .dataframe tbody tr th {\n        vertical-align: top;\n    }\n\n    .dataframe thead th {\n        text-align: right;\n    }\n</style>\n<table border=\"1\" class=\"dataframe\">\n  <thead>\n    <tr style=\"text-align: right;\">\n      <th></th>\n      <th>Unnamed: 0</th>\n      <th>title</th>\n      <th>ratings</th>\n      <th>awards</th>\n      <th>rated</th>\n      <th>runtime</th>\n      <th>genere</th>\n      <th>metascore</th>\n      <th>imdbRating</th>\n      <th>imdbVotes</th>\n      <th>imdbID</th>\n    </tr>\n  </thead>\n  <tbody>\n    <tr>\n      <td>0</td>\n      <td>0</td>\n      <td>Avatar</td>\n      <td>[{'Source': 'Internet Movie Database', 'Value'...</td>\n      <td>Won 3 Oscars. Another 86 wins &amp; 129 nominations.</td>\n      <td>PG-13</td>\n      <td>162 min</td>\n      <td>Action, Adventure, Fantasy, Sci-Fi</td>\n      <td>83.0</td>\n      <td>7.8</td>\n      <td>1,078,016</td>\n      <td>tt0499549</td>\n    </tr>\n    <tr>\n      <td>1</td>\n      <td>1</td>\n      <td>Transformers: Revenge of the Fallen</td>\n      <td>[{'Source': 'Internet Movie Database', 'Value'...</td>\n      <td>Nominated for 1 Oscar. Another 15 wins &amp; 27 no...</td>\n      <td>PG-13</td>\n      <td>150 min</td>\n      <td>Action, Adventure, Sci-Fi</td>\n      <td>35.0</td>\n      <td>6.0</td>\n      <td>371,781</td>\n      <td>tt1055369</td>\n    </tr>\n    <tr>\n      <td>2</td>\n      <td>2</td>\n      <td>Harry Potter and the Half-Blood Prince</td>\n      <td>[{'Source': 'Internet Movie Database', 'Value'...</td>\n      <td>Nominated for 1 Oscar. Another 8 wins &amp; 35 nom...</td>\n      <td>PG</td>\n      <td>153 min</td>\n      <td>Action, Adventure, Family, Fantasy, Mystery</td>\n      <td>78.0</td>\n      <td>7.6</td>\n      <td>436,498</td>\n      <td>tt0417741</td>\n    </tr>\n    <tr>\n      <td>3</td>\n      <td>3</td>\n      <td>The Twilight Saga: New Moon</td>\n      <td>[{'Source': 'Internet Movie Database', 'Value'...</td>\n      <td>20 wins &amp; 24 nominations.</td>\n      <td>PG-13</td>\n      <td>130 min</td>\n      <td>Adventure, Drama, Fantasy, Mystery, Romance</td>\n      <td>44.0</td>\n      <td>4.7</td>\n      <td>254,666</td>\n      <td>tt1259571</td>\n    </tr>\n    <tr>\n      <td>4</td>\n      <td>4</td>\n      <td>Up</td>\n      <td>[{'Source': 'Internet Movie Database', 'Value'...</td>\n      <td>Won 2 Oscars. Another 77 wins &amp; 82 nominations.</td>\n      <td>PG</td>\n      <td>96 min</td>\n      <td>Animation, Adventure, Comedy, Family</td>\n      <td>88.0</td>\n      <td>8.2</td>\n      <td>878,357</td>\n      <td>tt1049413</td>\n    </tr>\n  </tbody>\n</table>\n</div>",
      "text/plain": "   Unnamed: 0                                   title  \\\n0           0                                  Avatar   \n1           1     Transformers: Revenge of the Fallen   \n2           2  Harry Potter and the Half-Blood Prince   \n3           3             The Twilight Saga: New Moon   \n4           4                                      Up   \n\n                                             ratings  \\\n0  [{'Source': 'Internet Movie Database', 'Value'...   \n1  [{'Source': 'Internet Movie Database', 'Value'...   \n2  [{'Source': 'Internet Movie Database', 'Value'...   \n3  [{'Source': 'Internet Movie Database', 'Value'...   \n4  [{'Source': 'Internet Movie Database', 'Value'...   \n\n                                              awards  rated  runtime  \\\n0   Won 3 Oscars. Another 86 wins & 129 nominations.  PG-13  162 min   \n1  Nominated for 1 Oscar. Another 15 wins & 27 no...  PG-13  150 min   \n2  Nominated for 1 Oscar. Another 8 wins & 35 nom...     PG  153 min   \n3                          20 wins & 24 nominations.  PG-13  130 min   \n4    Won 2 Oscars. Another 77 wins & 82 nominations.     PG   96 min   \n\n                                        genere  metascore  imdbRating  \\\n0           Action, Adventure, Fantasy, Sci-Fi       83.0         7.8   \n1                    Action, Adventure, Sci-Fi       35.0         6.0   \n2  Action, Adventure, Family, Fantasy, Mystery       78.0         7.6   \n3  Adventure, Drama, Fantasy, Mystery, Romance       44.0         4.7   \n4         Animation, Adventure, Comedy, Family       88.0         8.2   \n\n   imdbVotes     imdbID  \n0  1,078,016  tt0499549  \n1    371,781  tt1055369  \n2    436,498  tt0417741  \n3    254,666  tt1259571  \n4    878,357  tt1049413  "
     },
     "execution_count": 10,
     "metadata": {},
     "output_type": "execute_result"
    }
   ],
   "source": [
    "# read in csv file for title list\n",
    "num_df = pd.read_csv(num_csv)\n",
    "num_df.head()"
   ]
  },
  {
   "cell_type": "code",
   "execution_count": 11,
   "metadata": {},
   "outputs": [
    {
     "data": {
      "text/plain": "dtype('O')"
     },
     "execution_count": 11,
     "metadata": {},
     "output_type": "execute_result"
    }
   ],
   "source": [
    "x=num_df['awards'][0]\n",
    "end=num_df['awards'][0].find('nominations')\n",
    "start=x[:end-1].rfind(' ')\n",
    "x[start+1:end-1]\n",
    "nom_list=[]\n",
    "num_df['awards'].dtypes"
   ]
  },
  {
   "cell_type": "code",
   "execution_count": 12,
   "metadata": {},
   "outputs": [
    {
     "name": "stdout",
     "output_type": "stream",
     "text": "129\n"
    },
    {
     "data": {
      "text/plain": "['129',\n '27',\n '35',\n '24',\n '82',\n '25',\n '93',\n '30',\n nan,\n '29',\n '9',\n '13',\n '18',\n '21',\n '19',\n '22',\n '16',\n '3',\n '2',\n '5',\n '13',\n '13',\n '171',\n nan,\n '111',\n '12',\n '4',\n '22',\n '38',\n '14',\n nan,\n '4',\n '4',\n '5',\n '162',\n '5',\n '10',\n '53',\n '28',\n '43',\n '5',\n '2',\n nan,\n '8',\n '8',\n nan,\n '2',\n '7',\n '5',\n '5',\n '5',\n '5',\n '8',\n '3',\n '5',\n '5',\n '9',\n '4',\n '45',\n nan,\n nan,\n '4',\n '22',\n '7',\n '3',\n nan,\n nan,\n '35',\n '4',\n nan,\n '3',\n nan,\n '18',\n '8',\n nan,\n nan,\n '3',\n '2',\n '9',\n '2',\n '2',\n '4',\n '14',\n nan,\n nan,\n '2',\n '4',\n nan,\n nan,\n '16',\n '61',\n nan,\n nan,\n '56',\n '4',\n nan,\n nan,\n '94',\n '63',\n '43',\n '34',\n '91',\n '210',\n '40',\n '13',\n '60',\n '40',\n '2',\n '49',\n '159',\n '14',\n '4',\n '5',\n '16',\n '204',\n '12',\n '65',\n '15',\n '15',\n '4',\n '12',\n '14',\n '17',\n '5',\n '7',\n '2',\n '8',\n '179',\n '9',\n '16',\n '45',\n '18',\n nan,\n '13',\n '2',\n '8',\n '4',\n '3',\n nan,\n nan,\n '5',\n '9',\n nan,\n '5',\n '10',\n '8',\n '14',\n '8',\n '5',\n '4',\n '6',\n '6',\n '23',\n '2',\n '6',\n '4',\n '5',\n '61',\n '3',\n nan,\n '10',\n nan,\n '3',\n '2',\n '2',\n nan,\n '19',\n '11',\n '16',\n '2',\n '7',\n '4',\n '6',\n '3',\n '14',\n nan,\n '64',\n '4',\n '3',\n nan,\n '6',\n '2',\n '10',\n '4',\n nan,\n nan,\n '12',\n nan,\n '2',\n nan,\n '7',\n '91',\n '39',\n '22',\n '18',\n '31',\n '21',\n '30',\n '18',\n '11',\n '30',\n '42',\n '46',\n '119',\n '70',\n '46',\n '42',\n '39',\n '30',\n '8',\n nan,\n '70',\n '25',\n '11',\n '6',\n '2',\n '11',\n '91',\n '4',\n '7',\n '43',\n '5',\n '22',\n '4',\n '6',\n '146',\n '2',\n '71',\n '8',\n '3',\n '62',\n '14',\n '8',\n '76',\n '5',\n '190',\n '4',\n '6',\n '9',\n '3',\n '9',\n '13',\n nan,\n '101',\n '5',\n nan,\n '8',\n '8',\n nan,\n '5',\n '4',\n nan,\n '22',\n nan,\n '203',\n '12',\n '6',\n '34',\n '26',\n '5',\n '6',\n '4',\n '5',\n '2',\n '9',\n '16',\n '7',\n nan,\n nan,\n '5',\n '11',\n '3',\n nan,\n '177',\n '5',\n '6',\n '5',\n '2',\n '3',\n nan,\n '3',\n nan,\n '25',\n '8',\n '2',\n '96',\n '79',\n '101',\n '47',\n '121',\n '72',\n '14',\n '31',\n '48',\n '27',\n '20',\n '41',\n '248',\n '13',\n '153',\n '11',\n '31',\n '173',\n '14',\n '3',\n '20',\n '154',\n '147',\n '46',\n '7',\n '14',\n '131',\n '11',\n '4',\n '31',\n '173',\n '43',\n '4',\n '5',\n '2',\n '5',\n '13',\n '4',\n '8',\n '11',\n nan,\n '46',\n '16',\n '20',\n '8',\n '4',\n nan,\n '7',\n nan,\n '14',\n '4',\n '45',\n '6',\n '14',\n '8',\n '4',\n '8',\n '9',\n '7',\n '7',\n '118',\n '3',\n '4',\n '4',\n '6',\n '34',\n '12',\n '10',\n '10',\n nan,\n '8',\n nan,\n '10',\n nan,\n '49',\n nan,\n '2',\n '19',\n nan,\n nan,\n '75',\n nan,\n '4',\n '4',\n nan,\n '68',\n '7',\n nan,\n '3',\n nan,\n nan,\n '2',\n '5',\n '180',\n '5',\n '4',\n '8',\n nan,\n '67',\n '62',\n '57',\n '65',\n '46',\n '179',\n '57',\n '87',\n '31',\n '56',\n '21',\n '24',\n '45',\n '16',\n '15',\n '215',\n '84',\n '22',\n '9',\n '15',\n '11',\n '23',\n '14',\n '11',\n '16',\n '3',\n '170',\n '51',\n '21',\n '146',\n '47',\n '20',\n '5',\n '19',\n '10',\n '17',\n '14',\n '72',\n '13',\n nan,\n '9',\n '19',\n '7',\n '8',\n '15',\n '5',\n '8',\n '10',\n '4',\n nan,\n '6',\n '37',\n '8',\n '18',\n nan,\n '333',\n '2',\n '4',\n '18',\n '3',\n '4',\n '5',\n '2',\n nan,\n '2',\n '5',\n '63',\n nan,\n '8',\n '5',\n '7',\n nan,\n '78',\n '5',\n '11',\n nan,\n nan,\n '7',\n '63',\n '2',\n '22',\n '2',\n '4',\n '2',\n '16',\n '21',\n nan,\n nan,\n '9',\n '2',\n nan,\n '3',\n '2',\n '2',\n '43',\n '31',\n '99',\n '50',\n '64',\n '23',\n '42',\n '47',\n '58',\n '47',\n '30',\n '31',\n '24',\n '10',\n '145',\n '60',\n '181',\n '11',\n '11',\n '7',\n '24',\n '71',\n '12',\n '29',\n '4',\n '16',\n '7',\n '11',\n '9',\n '18',\n '37',\n nan,\n '159',\n '7',\n '11',\n '23',\n '7',\n '5',\n '7',\n '2',\n '3',\n '15',\n '8',\n '4',\n '5',\n '5',\n nan,\n '222',\n '10',\n '5',\n '3',\n '3',\n '11',\n '59',\n '3',\n '28',\n nan,\n '8',\n '2',\n '10',\n '6',\n '4',\n '8',\n '6',\n '280',\n '3',\n '5',\n '3',\n '67',\n '2',\n '123',\n nan,\n '3',\n nan,\n '4',\n '18',\n nan,\n nan,\n nan,\n nan,\n '183',\n nan,\n nan,\n '4',\n '5',\n nan,\n nan,\n '7',\n '6',\n nan,\n '5',\n '6',\n '5',\n '2',\n '75',\n '5',\n '5',\n '94',\n '57',\n '47',\n '113',\n '34',\n '25',\n '34',\n '188',\n '36',\n '34',\n '24',\n '16',\n '185',\n '33',\n '9',\n '10',\n '26',\n '9',\n '39',\n '10',\n '220',\n '4',\n '47',\n '27',\n '40',\n nan,\n '25',\n '62',\n '19',\n '2',\n '8',\n '2',\n '4',\n '4',\n '5',\n '4',\n '4',\n '9',\n '6',\n '7',\n '101',\n '9',\n '80',\n '4',\n '24',\n '3',\n '3',\n '22',\n '12',\n '115',\n '3',\n '11',\n '89',\n '16',\n '4',\n '151',\n '5',\n '141',\n '3',\n '8',\n '2',\n '14',\n nan,\n '10',\n '5',\n '8',\n '4',\n '15',\n '105',\n '3',\n '41',\n '2',\n nan,\n '4',\n nan,\n '2',\n '5',\n '2',\n '7',\n '3',\n '2',\n '110',\n nan,\n nan,\n nan,\n nan,\n nan,\n '7',\n nan,\n nan,\n '17',\n '5',\n '43',\n '8',\n '2',\n nan,\n nan,\n '13',\n '80',\n '45',\n '68',\n '15',\n '55',\n '75',\n '70',\n '33',\n '39',\n '23',\n '86',\n '53',\n '65',\n '85',\n '20',\n '27',\n '19',\n '35',\n '276',\n '10',\n '6',\n '8',\n '4',\n '34',\n '5',\n '8',\n '16',\n '258',\n '10',\n '24',\n '12',\n '7',\n '12',\n '5',\n '10',\n '20',\n '7',\n '11',\n '6',\n '4',\n '46',\n '114',\n '4',\n nan,\n '3',\n '2',\n '13',\n nan,\n '3',\n nan,\n '114',\n '6',\n '25',\n '5',\n nan,\n nan,\n '3',\n '62',\n '16',\n '3',\n '3',\n '4',\n '2',\n '3',\n '2',\n '10',\n '5',\n '3',\n '34',\n nan,\n nan,\n '6',\n '3',\n '14',\n '6',\n '43',\n '17',\n nan,\n '41',\n '16',\n '3',\n nan,\n '7',\n nan,\n '4',\n '5',\n nan,\n '8',\n nan,\n nan,\n '4',\n '11',\n '7',\n '3',\n '145',\n '3',\n '6',\n '34',\n '70',\n '14',\n '52',\n '9',\n '45',\n '48',\n '32',\n '13',\n '73',\n '11',\n '35',\n '227',\n '67',\n '21',\n '31',\n '19',\n '23',\n '62',\n '26',\n '19',\n '38',\n '12',\n '59',\n '6',\n '8',\n '23',\n '6',\n '7',\n '156',\n '3',\n '6',\n '19',\n '111',\n '20',\n '8',\n '13',\n '13',\n nan,\n '3',\n '345',\n '7',\n '11',\n '76',\n '17',\n '3',\n '4',\n '2',\n '2',\n '4',\n nan,\n nan,\n '6',\n '5',\n '6',\n '9',\n '2',\n nan,\n nan,\n '2',\n nan,\n '3',\n nan,\n '7',\n '50',\n '3',\n nan,\n '11',\n nan,\n '3',\n nan,\n '15',\n nan,\n nan,\n '116',\n nan,\n nan,\n '15',\n nan,\n '3',\n '40',\n nan,\n '3',\n '2',\n '19',\n '4',\n '19',\n '9',\n nan,\n '3',\n '29',\n '4',\n '4',\n nan]"
     },
     "execution_count": 12,
     "metadata": {},
     "output_type": "execute_result"
    }
   ],
   "source": [
    "nom_list=[]\n",
    "x=0\n",
    "for index, row in num_df.iterrows():\n",
    "    mov=row['awards']\n",
    "    try:\n",
    "        award=str(mov)\n",
    "        end=award.find('nominations')\n",
    "        if end == -1:\n",
    "            nom_list.append(np.nan)\n",
    "            x +=1\n",
    "        else:\n",
    "            start=award[:end-1].rfind(' ')\n",
    "            nom_list.append(award[start+1:end-1])\n",
    "    except:\n",
    "        print('error')\n",
    "print(x)\n",
    "nom_list\n",
    "\n"
   ]
  },
  {
   "cell_type": "code",
   "execution_count": 13,
   "metadata": {},
   "outputs": [],
   "source": [
    "num_df[\"nominations\"]=nom_list"
   ]
  },
  {
   "cell_type": "code",
   "execution_count": 14,
   "metadata": {},
   "outputs": [],
   "source": [
    "num_df.drop('Unnamed: 0',axis=1).to_csv('./data_files/last900award.csv')"
   ]
  },
  {
   "cell_type": "code",
   "execution_count": 15,
   "metadata": {},
   "outputs": [
    {
     "data": {
      "text/plain": "Index(['Unnamed: 0', 'title', 'ratings', 'awards', 'rated', 'runtime',\n       'genere', 'metascore', 'imdbRating', 'imdbVotes', 'imdbID',\n       'nominations'],\n      dtype='object')"
     },
     "execution_count": 15,
     "metadata": {},
     "output_type": "execute_result"
    }
   ],
   "source": [
    "num_df.columns"
   ]
  },
  {
   "cell_type": "code",
   "execution_count": 16,
   "metadata": {},
   "outputs": [
    {
     "data": {
      "text/plain": "0      129\n1       27\n2       35\n3       24\n4       82\n      ... \n856      9\n858      3\n859     29\n860      4\n861      4\nName: nominations, Length: 734, dtype: object"
     },
     "execution_count": 16,
     "metadata": {},
     "output_type": "execute_result"
    }
   ],
   "source": [
    "num_df['nominations'].dropna()"
   ]
  },
  {
   "cell_type": "code",
   "execution_count": 16,
   "metadata": {},
   "outputs": [
    {
     "data": {
      "text/plain": "0"
     },
     "execution_count": 16,
     "metadata": {},
     "output_type": "execute_result"
    }
   ],
   "source": [
    "0"
   ]
  },
  {
   "cell_type": "code",
   "execution_count": 59,
   "metadata": {},
   "outputs": [],
   "source": [
    "omdb_df.to_csv('./data_files/first900.csv')"
   ]
  },
  {
   "cell_type": "code",
   "execution_count": null,
   "metadata": {},
   "outputs": [],
   "source": []
  }
 ],
 "metadata": {
  "kernelspec": {
   "display_name": "Python 3",
   "language": "python",
   "name": "python3"
  },
  "language_info": {
   "codemirror_mode": {
    "name": "ipython",
    "version": 3
   },
   "file_extension": ".py",
   "mimetype": "text/x-python",
   "name": "python",
   "nbconvert_exporter": "python",
   "pygments_lexer": "ipython3",
   "version": "3.7.4-final"
  },
  "varInspector": {
   "cols": {
    "lenName": 16,
    "lenType": 16,
    "lenVar": 40
   },
   "kernels_config": {
    "python": {
     "delete_cmd_postfix": "",
     "delete_cmd_prefix": "del ",
     "library": "var_list.py",
     "varRefreshCmd": "print(var_dic_list())"
    },
    "r": {
     "delete_cmd_postfix": ") ",
     "delete_cmd_prefix": "rm(",
     "library": "var_list.r",
     "varRefreshCmd": "cat(var_dic_list()) "
    }
   },
   "types_to_exclude": [
    "module",
    "function",
    "builtin_function_or_method",
    "instance",
    "_Feature"
   ],
   "window_display": false
  }
 },
 "nbformat": 4,
 "nbformat_minor": 2
}