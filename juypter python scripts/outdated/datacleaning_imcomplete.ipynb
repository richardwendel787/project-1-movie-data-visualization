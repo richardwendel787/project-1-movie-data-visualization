{
 "cells": [
  {
   "cell_type": "code",
   "execution_count": 1,
   "metadata": {},
   "outputs": [],
   "source": [
    "# Dependencies\n",
    "import requests\n",
    "import pandas as pd\n",
    "import numpy as np\n",
    "#from config import api_key\n",
    "\n",
    "# read in csv file for title lis\n",
    "\n",
    "num_csv = \"../data_files/quick_merge.csv\""
   ]
  },
  {
   "cell_type": "code",
   "execution_count": 2,
   "metadata": {},
   "outputs": [
    {
     "data": {
      "text/html": "<div>\n<style scoped>\n    .dataframe tbody tr th:only-of-type {\n        vertical-align: middle;\n    }\n\n    .dataframe tbody tr th {\n        vertical-align: top;\n    }\n\n    .dataframe thead th {\n        text-align: right;\n    }\n</style>\n<table border=\"1\" class=\"dataframe\">\n  <thead>\n    <tr style=\"text-align: right;\">\n      <th></th>\n      <th>Unnamed: 0</th>\n      <th>Ranking per year</th>\n      <th>Released</th>\n      <th>Title</th>\n      <th>Source</th>\n      <th>Production\\nBudget</th>\n      <th>Opening Weekend\\nRevenue</th>\n      <th>Domestic\\nBox Office</th>\n      <th>Infl. Adj. Dom.\\nBox Office</th>\n      <th>International\\nBox Office</th>\n      <th>...</th>\n      <th>ratings</th>\n      <th>awards</th>\n      <th>rated</th>\n      <th>runtime</th>\n      <th>genere</th>\n      <th>metascore</th>\n      <th>imdbRating</th>\n      <th>imdbVotes</th>\n      <th>imdbID</th>\n      <th>nominations</th>\n    </tr>\n  </thead>\n  <tbody>\n    <tr>\n      <td>0</td>\n      <td>0</td>\n      <td>1</td>\n      <td>Nov 17, 2000</td>\n      <td>How the Grinch Stole Christmas</td>\n      <td>Based on Fiction Book/Short Story</td>\n      <td>$123,000,000</td>\n      <td>$55,820,330</td>\n      <td>$260,044,825</td>\n      <td>$438,980,791</td>\n      <td>$85,096,578</td>\n      <td>...</td>\n      <td>[{'Source': 'Internet Movie Database', 'Value'...</td>\n      <td>Won 1 Oscar. Another 17 wins &amp; 37 nominations.</td>\n      <td>PG</td>\n      <td>104 min</td>\n      <td>Comedy, Family, Fantasy</td>\n      <td>46.0</td>\n      <td>6.1</td>\n      <td>193,860</td>\n      <td>tt0170016</td>\n      <td>37.0</td>\n    </tr>\n    <tr>\n      <td>1</td>\n      <td>1</td>\n      <td>2</td>\n      <td>Dec 22, 2000</td>\n      <td>Cast Away</td>\n      <td>Original Screenplay</td>\n      <td>$85,000,000</td>\n      <td>$28,883,406</td>\n      <td>$233,632,142</td>\n      <td>$384,884,272</td>\n      <td>$193,598,374</td>\n      <td>...</td>\n      <td>[{'Source': 'Internet Movie Database', 'Value'...</td>\n      <td>Nominated for 2 Oscars. Another 15 wins &amp; 35 n...</td>\n      <td>PG-13</td>\n      <td>143 min</td>\n      <td>Adventure, Drama, Romance</td>\n      <td>73.0</td>\n      <td>7.8</td>\n      <td>491,190</td>\n      <td>tt0162222</td>\n      <td>35.0</td>\n    </tr>\n    <tr>\n      <td>2</td>\n      <td>2</td>\n      <td>3</td>\n      <td>May 24, 2000</td>\n      <td>Mission: Impossible II</td>\n      <td>Based on TV</td>\n      <td>$120,000,000</td>\n      <td>$57,845,297</td>\n      <td>$215,409,889</td>\n      <td>$364,078,672</td>\n      <td>$334,178,627</td>\n      <td>...</td>\n      <td>[{'Source': 'Internet Movie Database', 'Value'...</td>\n      <td>12 wins &amp; 20 nominations.</td>\n      <td>PG-13</td>\n      <td>123 min</td>\n      <td>Action, Adventure, Thriller</td>\n      <td>59.0</td>\n      <td>6.1</td>\n      <td>299,689</td>\n      <td>tt0120755</td>\n      <td>20.0</td>\n    </tr>\n    <tr>\n      <td>3</td>\n      <td>3</td>\n      <td>4</td>\n      <td>May 5, 2000</td>\n      <td>Gladiator</td>\n      <td>Original Screenplay</td>\n      <td>$103,000,000</td>\n      <td>$34,819,017</td>\n      <td>$187,683,805</td>\n      <td>$317,130,387</td>\n      <td>$270,000,000</td>\n      <td>...</td>\n      <td>[{'Source': 'Internet Movie Database', 'Value'...</td>\n      <td>Won 5 Oscars. Another 54 wins &amp; 104 nominations.</td>\n      <td>R</td>\n      <td>155 min</td>\n      <td>Action, Adventure, Drama</td>\n      <td>67.0</td>\n      <td>8.5</td>\n      <td>1,265,367</td>\n      <td>tt0172495</td>\n      <td>104.0</td>\n    </tr>\n    <tr>\n      <td>4</td>\n      <td>4</td>\n      <td>5</td>\n      <td>Dec 15, 2000</td>\n      <td>What Women Want</td>\n      <td>Original Screenplay</td>\n      <td>$65,000,000</td>\n      <td>$33,614,543</td>\n      <td>$182,805,123</td>\n      <td>$303,565,725</td>\n      <td>$191,300,000</td>\n      <td>...</td>\n      <td>[{'Source': 'Internet Movie Database', 'Value'...</td>\n      <td>Nominated for 1 Golden Globe. Another 5 wins &amp;...</td>\n      <td>PG-13</td>\n      <td>127 min</td>\n      <td>Comedy, Fantasy, Romance</td>\n      <td>47.0</td>\n      <td>6.4</td>\n      <td>184,860</td>\n      <td>tt0207201</td>\n      <td>8.0</td>\n    </tr>\n    <tr>\n      <td>...</td>\n      <td>...</td>\n      <td>...</td>\n      <td>...</td>\n      <td>...</td>\n      <td>...</td>\n      <td>...</td>\n      <td>...</td>\n      <td>...</td>\n      <td>...</td>\n      <td>...</td>\n      <td>...</td>\n      <td>...</td>\n      <td>...</td>\n      <td>...</td>\n      <td>...</td>\n      <td>...</td>\n      <td>...</td>\n      <td>...</td>\n      <td>...</td>\n      <td>...</td>\n      <td>...</td>\n    </tr>\n    <tr>\n      <td>1795</td>\n      <td>1795</td>\n      <td>96</td>\n      <td>Feb 24, 2017</td>\n      <td>Rock Dog</td>\n      <td>Original Screenplay</td>\n      <td>$60,000,000</td>\n      <td>$3,704,749</td>\n      <td>$9,420,546</td>\n      <td>$9,567,577</td>\n      <td>$14,727,942</td>\n      <td>...</td>\n      <td>[{'Source': 'Internet Movie Database', 'Value'...</td>\n      <td>3 nominations.</td>\n      <td>PG</td>\n      <td>90 min</td>\n      <td>Animation, Adventure, Comedy, Family, Music</td>\n      <td>48.0</td>\n      <td>5.9</td>\n      <td>4,252</td>\n      <td>tt2822672</td>\n      <td>3.0</td>\n    </tr>\n    <tr>\n      <td>1796</td>\n      <td>1796</td>\n      <td>97</td>\n      <td>Apr 14, 2017</td>\n      <td>The Lost City of Z</td>\n      <td>Based on Factual Book/Article</td>\n      <td>$30,000,000</td>\n      <td>$110,175</td>\n      <td>$8,574,339</td>\n      <td>$8,708,158</td>\n      <td>$8,547,484</td>\n      <td>...</td>\n      <td>[{'Source': 'Internet Movie Database', 'Value'...</td>\n      <td>6 wins &amp; 29 nominations.</td>\n      <td>PG-13</td>\n      <td>141 min</td>\n      <td>Biography, Drama, History</td>\n      <td>78.0</td>\n      <td>6.6</td>\n      <td>71,426</td>\n      <td>tt1212428</td>\n      <td>29.0</td>\n    </tr>\n    <tr>\n      <td>1797</td>\n      <td>1797</td>\n      <td>98</td>\n      <td>Apr 21, 2017</td>\n      <td>The Promise</td>\n      <td>Original Screenplay</td>\n      <td>$90,000,000</td>\n      <td>$4,095,718</td>\n      <td>$8,224,288</td>\n      <td>$8,352,640</td>\n      <td>$2,327,129</td>\n      <td>...</td>\n      <td>[{'Source': 'Internet Movie Database', 'Value'...</td>\n      <td>2 wins &amp; 4 nominations.</td>\n      <td>PG-13</td>\n      <td>133 min</td>\n      <td>Action, Adventure, Drama, History, War</td>\n      <td>49.0</td>\n      <td>5.9</td>\n      <td>165,602</td>\n      <td>tt4776998</td>\n      <td>4.0</td>\n    </tr>\n    <tr>\n      <td>1798</td>\n      <td>1798</td>\n      <td>99</td>\n      <td>Feb 3, 2017</td>\n      <td>The Space Between Us</td>\n      <td>Original Screenplay</td>\n      <td>$30,000,000</td>\n      <td>$3,775,596</td>\n      <td>$7,885,294</td>\n      <td>$8,008,364</td>\n      <td>$8,596,111</td>\n      <td>...</td>\n      <td>[{'Source': 'Internet Movie Database', 'Value'...</td>\n      <td>4 nominations.</td>\n      <td>PG-13</td>\n      <td>120 min</td>\n      <td>Drama, Romance, Sci-Fi</td>\n      <td>33.0</td>\n      <td>6.4</td>\n      <td>44,396</td>\n      <td>tt3922818</td>\n      <td>4.0</td>\n    </tr>\n    <tr>\n      <td>1799</td>\n      <td>1799</td>\n      <td>100</td>\n      <td>Aug 25, 2017</td>\n      <td>Birth of the Dragon</td>\n      <td>Based on Real Life Events</td>\n      <td>$31,000,000</td>\n      <td>$2,702,430</td>\n      <td>$6,901,965</td>\n      <td>$7,009,680</td>\n      <td>$318,525</td>\n      <td>...</td>\n      <td>[{'Source': 'Internet Movie Database', 'Value'...</td>\n      <td>1 win.</td>\n      <td>PG-13</td>\n      <td>95 min</td>\n      <td>Action, Biography, Drama</td>\n      <td>35.0</td>\n      <td>5.5</td>\n      <td>6,589</td>\n      <td>tt2720826</td>\n      <td>NaN</td>\n    </tr>\n  </tbody>\n</table>\n<p>1800 rows × 21 columns</p>\n</div>",
      "text/plain": "      Unnamed: 0  Ranking per year      Released  \\\n0              0                 1  Nov 17, 2000   \n1              1                 2  Dec 22, 2000   \n2              2                 3  May 24, 2000   \n3              3                 4   May 5, 2000   \n4              4                 5  Dec 15, 2000   \n...          ...               ...           ...   \n1795        1795                96  Feb 24, 2017   \n1796        1796                97  Apr 14, 2017   \n1797        1797                98  Apr 21, 2017   \n1798        1798                99   Feb 3, 2017   \n1799        1799               100  Aug 25, 2017   \n\n                               Title                             Source  \\\n0     How the Grinch Stole Christmas  Based on Fiction Book/Short Story   \n1                          Cast Away                Original Screenplay   \n2             Mission: Impossible II                        Based on TV   \n3                          Gladiator                Original Screenplay   \n4                    What Women Want                Original Screenplay   \n...                              ...                                ...   \n1795                        Rock Dog                Original Screenplay   \n1796              The Lost City of Z      Based on Factual Book/Article   \n1797                     The Promise                Original Screenplay   \n1798            The Space Between Us                Original Screenplay   \n1799             Birth of the Dragon          Based on Real Life Events   \n\n     Production\\nBudget Opening Weekend\\nRevenue Domestic\\nBox Office  \\\n0          $123,000,000              $55,820,330         $260,044,825   \n1           $85,000,000              $28,883,406         $233,632,142   \n2          $120,000,000              $57,845,297         $215,409,889   \n3          $103,000,000              $34,819,017         $187,683,805   \n4           $65,000,000              $33,614,543         $182,805,123   \n...                 ...                      ...                  ...   \n1795        $60,000,000               $3,704,749           $9,420,546   \n1796        $30,000,000                 $110,175           $8,574,339   \n1797        $90,000,000               $4,095,718           $8,224,288   \n1798        $30,000,000               $3,775,596           $7,885,294   \n1799        $31,000,000               $2,702,430           $6,901,965   \n\n     Infl. Adj. Dom.\\nBox Office International\\nBox Office  ...  \\\n0                   $438,980,791               $85,096,578  ...   \n1                   $384,884,272              $193,598,374  ...   \n2                   $364,078,672              $334,178,627  ...   \n3                   $317,130,387              $270,000,000  ...   \n4                   $303,565,725              $191,300,000  ...   \n...                          ...                       ...  ...   \n1795                  $9,567,577               $14,727,942  ...   \n1796                  $8,708,158                $8,547,484  ...   \n1797                  $8,352,640                $2,327,129  ...   \n1798                  $8,008,364                $8,596,111  ...   \n1799                  $7,009,680                  $318,525  ...   \n\n                                                ratings  \\\n0     [{'Source': 'Internet Movie Database', 'Value'...   \n1     [{'Source': 'Internet Movie Database', 'Value'...   \n2     [{'Source': 'Internet Movie Database', 'Value'...   \n3     [{'Source': 'Internet Movie Database', 'Value'...   \n4     [{'Source': 'Internet Movie Database', 'Value'...   \n...                                                 ...   \n1795  [{'Source': 'Internet Movie Database', 'Value'...   \n1796  [{'Source': 'Internet Movie Database', 'Value'...   \n1797  [{'Source': 'Internet Movie Database', 'Value'...   \n1798  [{'Source': 'Internet Movie Database', 'Value'...   \n1799  [{'Source': 'Internet Movie Database', 'Value'...   \n\n                                                 awards  rated  runtime  \\\n0        Won 1 Oscar. Another 17 wins & 37 nominations.     PG  104 min   \n1     Nominated for 2 Oscars. Another 15 wins & 35 n...  PG-13  143 min   \n2                             12 wins & 20 nominations.  PG-13  123 min   \n3      Won 5 Oscars. Another 54 wins & 104 nominations.      R  155 min   \n4     Nominated for 1 Golden Globe. Another 5 wins &...  PG-13  127 min   \n...                                                 ...    ...      ...   \n1795                                     3 nominations.     PG   90 min   \n1796                           6 wins & 29 nominations.  PG-13  141 min   \n1797                            2 wins & 4 nominations.  PG-13  133 min   \n1798                                     4 nominations.  PG-13  120 min   \n1799                                             1 win.  PG-13   95 min   \n\n                                           genere metascore  imdbRating  \\\n0                         Comedy, Family, Fantasy      46.0         6.1   \n1                       Adventure, Drama, Romance      73.0         7.8   \n2                     Action, Adventure, Thriller      59.0         6.1   \n3                        Action, Adventure, Drama      67.0         8.5   \n4                        Comedy, Fantasy, Romance      47.0         6.4   \n...                                           ...       ...         ...   \n1795  Animation, Adventure, Comedy, Family, Music      48.0         5.9   \n1796                    Biography, Drama, History      78.0         6.6   \n1797       Action, Adventure, Drama, History, War      49.0         5.9   \n1798                       Drama, Romance, Sci-Fi      33.0         6.4   \n1799                     Action, Biography, Drama      35.0         5.5   \n\n      imdbVotes     imdbID nominations  \n0       193,860  tt0170016        37.0  \n1       491,190  tt0162222        35.0  \n2       299,689  tt0120755        20.0  \n3     1,265,367  tt0172495       104.0  \n4       184,860  tt0207201         8.0  \n...         ...        ...         ...  \n1795      4,252  tt2822672         3.0  \n1796     71,426  tt1212428        29.0  \n1797    165,602  tt4776998         4.0  \n1798     44,396  tt3922818         4.0  \n1799      6,589  tt2720826         NaN  \n\n[1800 rows x 21 columns]"
     },
     "execution_count": 2,
     "metadata": {},
     "output_type": "execute_result"
    }
   ],
   "source": [
    "# read in csv file for title list\n",
    "num_df = pd.read_csv(num_csv)\n",
    "num_df"
   ]
  },
  {
   "cell_type": "code",
   "execution_count": 3,
   "metadata": {},
   "outputs": [
    {
     "data": {
      "text/plain": [
       "Index(['Unnamed: 0', 'Ranking per year', 'Released', 'Title', 'Source',\n",
       "       'Production\\nBudget', 'Opening Weekend\\nRevenue',\n",
       "       'Domestic\\nBox Office', 'Infl. Adj. Dom.\\nBox Office',\n",
       "       'International\\nBox Office', 'Worldwide\\nBox Office', 'ratings',\n",
       "       'awards', 'rated', 'runtime', 'genere', 'metascore', 'imdbRating',\n",
       "       'imdbVotes', 'imdbID', 'nominations'],\n",
       "      dtype='object')"
      ]
     },
     "execution_count": 3,
     "metadata": {},
     "output_type": "execute_result"
    }
   ],
   "source": [
    "num_df.columns"
   ]
  },
  {
   "cell_type": "code",
   "execution_count": 16,
   "metadata": {},
   "outputs": [],
   "source": [
    "fixed_budg = num_df['Production\\nBudget'].map(lambda x: float(x[1:].replace(',','')))"
   ]
  },
  {
   "cell_type": "code",
   "execution_count": 17,
   "metadata": {},
   "outputs": [
    {
     "data": {
      "text/plain": [
       "0       123000000.0\n",
       "1        85000000.0\n",
       "2       120000000.0\n",
       "3       103000000.0\n",
       "4        65000000.0\n",
       "           ...     \n",
       "1795     60000000.0\n",
       "1796     30000000.0\n",
       "1797     90000000.0\n",
       "1798     30000000.0\n",
       "1799     31000000.0\n",
       "Name: Production\\nBudget, Length: 1800, dtype: float64"
      ]
     },
     "execution_count": 17,
     "metadata": {},
     "output_type": "execute_result"
    }
   ],
   "source": [
    "fixed_budg "
   ]
  },
  {
   "cell_type": "code",
   "execution_count": 18,
   "metadata": {},
   "outputs": [
    {
     "data": {
      "text/plain": [
       "0"
      ]
     },
     "execution_count": 18,
     "metadata": {},
     "output_type": "execute_result"
    }
   ],
   "source": [
    "0"
   ]
  },
  {
   "cell_type": "code",
   "execution_count": 19,
   "metadata": {},
   "outputs": [
    {
     "data": {
      "text/plain": [
       "0"
      ]
     },
     "execution_count": 19,
     "metadata": {},
     "output_type": "execute_result"
    }
   ],
   "source": [
    "0"
   ]
  },
  {
   "cell_type": "code",
   "execution_count": 20,
   "metadata": {},
   "outputs": [
    {
     "data": {
      "text/plain": [
       "0"
      ]
     },
     "execution_count": 20,
     "metadata": {},
     "output_type": "execute_result"
    }
   ],
   "source": [
    "0"
   ]
  },
  {
   "cell_type": "code",
   "execution_count": 50,
   "metadata": {},
   "outputs": [],
   "source": [
    "0"
   ]
  },
  {
   "cell_type": "code",
   "execution_count": 36,
   "metadata": {},
   "outputs": [
    {
     "data": {
      "text/plain": [
       "'Pirates of the Caribbean: On Stranger…'"
      ]
     },
     "execution_count": 36,
     "metadata": {},
     "output_type": "execute_result"
    }
   ],
   "source": [
    "0"
   ]
  },
  {
   "cell_type": "code",
   "execution_count": null,
   "metadata": {},
   "outputs": [],
   "source": []
  }
 ],
 "metadata": {
  "kernelspec": {
   "display_name": "Python 3",
   "language": "python",
   "name": "python3"
  },
  "language_info": {
   "codemirror_mode": {
    "name": "ipython",
    "version": 3
   },
   "file_extension": ".py",
   "mimetype": "text/x-python",
   "name": "python",
   "nbconvert_exporter": "python",
   "pygments_lexer": "ipython3",
   "version": "3.7.4-final"
  },
  "varInspector": {
   "cols": {
    "lenName": 16,
    "lenType": 16,
    "lenVar": 40
   },
   "kernels_config": {
    "python": {
     "delete_cmd_postfix": "",
     "delete_cmd_prefix": "del ",
     "library": "var_list.py",
     "varRefreshCmd": "print(var_dic_list())"
    },
    "r": {
     "delete_cmd_postfix": ") ",
     "delete_cmd_prefix": "rm(",
     "library": "var_list.r",
     "varRefreshCmd": "cat(var_dic_list()) "
    }
   },
   "types_to_exclude": [
    "module",
    "function",
    "builtin_function_or_method",
    "instance",
    "_Feature"
   ],
   "window_display": false
  }
 },
 "nbformat": 4,
 "nbformat_minor": 2
}