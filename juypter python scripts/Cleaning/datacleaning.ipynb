{
 "cells": [
  {
   "cell_type": "code",
   "execution_count": 37,
   "metadata": {},
   "outputs": [],
   "source": [
    "# A script file to merge a few csv files with some data column clean ups\n",
    "# By Chris Chiang\n",
    "# Dependencies\n",
    "import requests\n",
    "import pandas as pd\n",
    "import numpy as np\n",
    "\n",
    "\n",
    "# read in csv file for title lis\n",
    "f_csv = \"../data_files/first900_fix.csv\"\n",
    "l_csv = \"../data_files/last900_fix.csv\"\n",
    "num_csv = \"../data_files/numberdotcom_fix_names.csv\""
   ]
  },
  {
   "cell_type": "code",
   "execution_count": 41,
   "metadata": {},
   "outputs": [
    {
     "data": {
      "text/html": "<div>\n<style scoped>\n    .dataframe tbody tr th:only-of-type {\n        vertical-align: middle;\n    }\n\n    .dataframe tbody tr th {\n        vertical-align: top;\n    }\n\n    .dataframe thead th {\n        text-align: right;\n    }\n</style>\n<table border=\"1\" class=\"dataframe\">\n  <thead>\n    <tr style=\"text-align: right;\">\n      <th></th>\n      <th>Unnamed: 0</th>\n      <th>Title</th>\n      <th>Released</th>\n      <th>ratings</th>\n      <th>awards</th>\n      <th>rated</th>\n      <th>runtime</th>\n      <th>genere</th>\n      <th>metascore</th>\n      <th>imdbRating</th>\n      <th>imdbVotes</th>\n      <th>imdbID</th>\n      <th>nominations</th>\n    </tr>\n  </thead>\n  <tbody>\n    <tr>\n      <td>0</td>\n      <td>0</td>\n      <td>Avatar</td>\n      <td>Dec 18, 2009</td>\n      <td>[{'Source': 'Internet Movie Database', 'Value'...</td>\n      <td>Won 3 Oscars. Another 86 wins &amp; 129 nominations.</td>\n      <td>PG-13</td>\n      <td>162 min</td>\n      <td>Action, Adventure, Fantasy, Sci-Fi</td>\n      <td>83.0</td>\n      <td>7.8</td>\n      <td>1,078,016</td>\n      <td>tt0499549</td>\n      <td>129.0</td>\n    </tr>\n    <tr>\n      <td>1</td>\n      <td>1</td>\n      <td>Transformers: Revenge of the Fallen</td>\n      <td>Jun 24, 2009</td>\n      <td>[{'Source': 'Internet Movie Database', 'Value'...</td>\n      <td>Nominated for 1 Oscar. Another 15 wins &amp; 27 no...</td>\n      <td>PG-13</td>\n      <td>150 min</td>\n      <td>Action, Adventure, Sci-Fi</td>\n      <td>35.0</td>\n      <td>6.0</td>\n      <td>371,781</td>\n      <td>tt1055369</td>\n      <td>27.0</td>\n    </tr>\n    <tr>\n      <td>2</td>\n      <td>2</td>\n      <td>Harry Potter and the Half-Blood Prince</td>\n      <td>Jul 15, 2009</td>\n      <td>[{'Source': 'Internet Movie Database', 'Value'...</td>\n      <td>Nominated for 1 Oscar. Another 8 wins &amp; 35 nom...</td>\n      <td>PG</td>\n      <td>153 min</td>\n      <td>Action, Adventure, Family, Fantasy, Mystery</td>\n      <td>78.0</td>\n      <td>7.6</td>\n      <td>439,445</td>\n      <td>tt0417741</td>\n      <td>35.0</td>\n    </tr>\n    <tr>\n      <td>3</td>\n      <td>3</td>\n      <td>The Twilight Saga: New Moon</td>\n      <td>Nov 20, 2009</td>\n      <td>[{'Source': 'Internet Movie Database', 'Value'...</td>\n      <td>20 wins &amp; 24 nominations.</td>\n      <td>PG-13</td>\n      <td>130 min</td>\n      <td>Adventure, Drama, Fantasy, Mystery, Romance</td>\n      <td>44.0</td>\n      <td>4.7</td>\n      <td>254,666</td>\n      <td>tt1259571</td>\n      <td>24.0</td>\n    </tr>\n    <tr>\n      <td>4</td>\n      <td>4</td>\n      <td>Up</td>\n      <td>May 29, 2009</td>\n      <td>[{'Source': 'Internet Movie Database', 'Value'...</td>\n      <td>Won 2 Oscars. Another 78 wins &amp; 82 nominations.</td>\n      <td>PG</td>\n      <td>96 min</td>\n      <td>Animation, Adventure, Comedy, Family</td>\n      <td>88.0</td>\n      <td>8.2</td>\n      <td>882,822</td>\n      <td>tt1049413</td>\n      <td>82.0</td>\n    </tr>\n  </tbody>\n</table>\n</div>",
      "text/plain": "   Unnamed: 0                                   Title      Released  \\\n0           0                                  Avatar  Dec 18, 2009   \n1           1     Transformers: Revenge of the Fallen  Jun 24, 2009   \n2           2  Harry Potter and the Half-Blood Prince  Jul 15, 2009   \n3           3             The Twilight Saga: New Moon  Nov 20, 2009   \n4           4                                      Up  May 29, 2009   \n\n                                             ratings  \\\n0  [{'Source': 'Internet Movie Database', 'Value'...   \n1  [{'Source': 'Internet Movie Database', 'Value'...   \n2  [{'Source': 'Internet Movie Database', 'Value'...   \n3  [{'Source': 'Internet Movie Database', 'Value'...   \n4  [{'Source': 'Internet Movie Database', 'Value'...   \n\n                                              awards  rated  runtime  \\\n0   Won 3 Oscars. Another 86 wins & 129 nominations.  PG-13  162 min   \n1  Nominated for 1 Oscar. Another 15 wins & 27 no...  PG-13  150 min   \n2  Nominated for 1 Oscar. Another 8 wins & 35 nom...     PG  153 min   \n3                          20 wins & 24 nominations.  PG-13  130 min   \n4    Won 2 Oscars. Another 78 wins & 82 nominations.     PG   96 min   \n\n                                        genere  metascore  imdbRating  \\\n0           Action, Adventure, Fantasy, Sci-Fi       83.0         7.8   \n1                    Action, Adventure, Sci-Fi       35.0         6.0   \n2  Action, Adventure, Family, Fantasy, Mystery       78.0         7.6   \n3  Adventure, Drama, Fantasy, Mystery, Romance       44.0         4.7   \n4         Animation, Adventure, Comedy, Family       88.0         8.2   \n\n   imdbVotes     imdbID  nominations  \n0  1,078,016  tt0499549        129.0  \n1    371,781  tt1055369         27.0  \n2    439,445  tt0417741         35.0  \n3    254,666  tt1259571         24.0  \n4    882,822  tt1049413         82.0  "
     },
     "execution_count": 41,
     "metadata": {},
     "output_type": "execute_result"
    }
   ],
   "source": [
    "# read in csv file for title list\n",
    "num_df = pd.read_csv(num_csv)\n",
    "f_df = pd.read_csv(f_csv)\n",
    "l_df = pd.read_csv(l_csv)\n",
    "l_df.head()\n"
   ]
  },
  {
   "cell_type": "code",
   "execution_count": 42,
   "metadata": {},
   "outputs": [
    {
     "name": "stdout",
     "output_type": "stream",
     "text": "888\n894\n1782\n"
    },
    {
     "data": {
      "text/html": "<div>\n<style scoped>\n    .dataframe tbody tr th:only-of-type {\n        vertical-align: middle;\n    }\n\n    .dataframe tbody tr th {\n        vertical-align: top;\n    }\n\n    .dataframe thead th {\n        text-align: right;\n    }\n</style>\n<table border=\"1\" class=\"dataframe\">\n  <thead>\n    <tr style=\"text-align: right;\">\n      <th></th>\n      <th>Unnamed: 0</th>\n      <th>Title</th>\n      <th>Released</th>\n      <th>ratings</th>\n      <th>awards</th>\n      <th>rated</th>\n      <th>runtime</th>\n      <th>genere</th>\n      <th>metascore</th>\n      <th>imdbRating</th>\n      <th>imdbVotes</th>\n      <th>imdbID</th>\n      <th>nominations</th>\n    </tr>\n  </thead>\n  <tbody>\n    <tr>\n      <td>0</td>\n      <td>0</td>\n      <td>How the Grinch Stole Christmas</td>\n      <td>Nov 17, 2000</td>\n      <td>[{'Source': 'Internet Movie Database', 'Value'...</td>\n      <td>Won 1 Oscar. Another 17 wins &amp; 37 nominations.</td>\n      <td>PG</td>\n      <td>104 min</td>\n      <td>Comedy, Family, Fantasy</td>\n      <td>46.0</td>\n      <td>6.1</td>\n      <td>193,860</td>\n      <td>tt0170016</td>\n      <td>37.0</td>\n    </tr>\n    <tr>\n      <td>1</td>\n      <td>1</td>\n      <td>Cast Away</td>\n      <td>Dec 22, 2000</td>\n      <td>[{'Source': 'Internet Movie Database', 'Value'...</td>\n      <td>Nominated for 2 Oscars. Another 15 wins &amp; 35 n...</td>\n      <td>PG-13</td>\n      <td>143 min</td>\n      <td>Adventure, Drama, Romance</td>\n      <td>73.0</td>\n      <td>7.8</td>\n      <td>491,190</td>\n      <td>tt0162222</td>\n      <td>35.0</td>\n    </tr>\n    <tr>\n      <td>2</td>\n      <td>2</td>\n      <td>Mission: Impossible II</td>\n      <td>May 24, 2000</td>\n      <td>[{'Source': 'Internet Movie Database', 'Value'...</td>\n      <td>12 wins &amp; 20 nominations.</td>\n      <td>PG-13</td>\n      <td>123 min</td>\n      <td>Action, Adventure, Thriller</td>\n      <td>59.0</td>\n      <td>6.1</td>\n      <td>299,689</td>\n      <td>tt0120755</td>\n      <td>20.0</td>\n    </tr>\n    <tr>\n      <td>3</td>\n      <td>3</td>\n      <td>Gladiator</td>\n      <td>May 5, 2000</td>\n      <td>[{'Source': 'Internet Movie Database', 'Value'...</td>\n      <td>Won 5 Oscars. Another 54 wins &amp; 104 nominations.</td>\n      <td>R</td>\n      <td>155 min</td>\n      <td>Action, Adventure, Drama</td>\n      <td>67.0</td>\n      <td>8.5</td>\n      <td>1,265,367</td>\n      <td>tt0172495</td>\n      <td>104.0</td>\n    </tr>\n    <tr>\n      <td>4</td>\n      <td>4</td>\n      <td>What Women Want</td>\n      <td>Dec 15, 2000</td>\n      <td>[{'Source': 'Internet Movie Database', 'Value'...</td>\n      <td>Nominated for 1 Golden Globe. Another 5 wins &amp;...</td>\n      <td>PG-13</td>\n      <td>127 min</td>\n      <td>Comedy, Fantasy, Romance</td>\n      <td>47.0</td>\n      <td>6.4</td>\n      <td>184,860</td>\n      <td>tt0207201</td>\n      <td>8.0</td>\n    </tr>\n    <tr>\n      <td>...</td>\n      <td>...</td>\n      <td>...</td>\n      <td>...</td>\n      <td>...</td>\n      <td>...</td>\n      <td>...</td>\n      <td>...</td>\n      <td>...</td>\n      <td>...</td>\n      <td>...</td>\n      <td>...</td>\n      <td>...</td>\n      <td>...</td>\n    </tr>\n    <tr>\n      <td>889</td>\n      <td>889</td>\n      <td>Rock Dog</td>\n      <td>Feb 24, 2017</td>\n      <td>[{'Source': 'Internet Movie Database', 'Value'...</td>\n      <td>3 nominations.</td>\n      <td>PG</td>\n      <td>90 min</td>\n      <td>Animation, Adventure, Comedy, Family, Music</td>\n      <td>48.0</td>\n      <td>5.9</td>\n      <td>4,252</td>\n      <td>tt2822672</td>\n      <td>3.0</td>\n    </tr>\n    <tr>\n      <td>890</td>\n      <td>890</td>\n      <td>The Lost City of Z</td>\n      <td>Apr 14, 2017</td>\n      <td>[{'Source': 'Internet Movie Database', 'Value'...</td>\n      <td>6 wins &amp; 29 nominations.</td>\n      <td>PG-13</td>\n      <td>141 min</td>\n      <td>Biography, Drama, History</td>\n      <td>78.0</td>\n      <td>6.6</td>\n      <td>71,426</td>\n      <td>tt1212428</td>\n      <td>29.0</td>\n    </tr>\n    <tr>\n      <td>891</td>\n      <td>891</td>\n      <td>The Promise</td>\n      <td>Apr 21, 2017</td>\n      <td>[{'Source': 'Internet Movie Database', 'Value'...</td>\n      <td>2 wins &amp; 4 nominations.</td>\n      <td>PG-13</td>\n      <td>133 min</td>\n      <td>Action, Adventure, Drama, History, War</td>\n      <td>49.0</td>\n      <td>5.9</td>\n      <td>165,602</td>\n      <td>tt4776998</td>\n      <td>4.0</td>\n    </tr>\n    <tr>\n      <td>892</td>\n      <td>892</td>\n      <td>The Space Between Us</td>\n      <td>Feb 3, 2017</td>\n      <td>[{'Source': 'Internet Movie Database', 'Value'...</td>\n      <td>4 nominations.</td>\n      <td>PG-13</td>\n      <td>120 min</td>\n      <td>Drama, Romance, Sci-Fi</td>\n      <td>33.0</td>\n      <td>6.4</td>\n      <td>44,396</td>\n      <td>tt3922818</td>\n      <td>4.0</td>\n    </tr>\n    <tr>\n      <td>893</td>\n      <td>893</td>\n      <td>Birth of the Dragon</td>\n      <td>Aug 25, 2017</td>\n      <td>[{'Source': 'Internet Movie Database', 'Value'...</td>\n      <td>1 win.</td>\n      <td>PG-13</td>\n      <td>95 min</td>\n      <td>Action, Biography, Drama</td>\n      <td>35.0</td>\n      <td>5.5</td>\n      <td>6,589</td>\n      <td>tt2720826</td>\n      <td>NaN</td>\n    </tr>\n  </tbody>\n</table>\n<p>1782 rows × 13 columns</p>\n</div>",
      "text/plain": "     Unnamed: 0                           Title      Released  \\\n0             0  How the Grinch Stole Christmas  Nov 17, 2000   \n1             1                       Cast Away  Dec 22, 2000   \n2             2          Mission: Impossible II  May 24, 2000   \n3             3                       Gladiator   May 5, 2000   \n4             4                 What Women Want  Dec 15, 2000   \n..          ...                             ...           ...   \n889         889                        Rock Dog  Feb 24, 2017   \n890         890              The Lost City of Z  Apr 14, 2017   \n891         891                     The Promise  Apr 21, 2017   \n892         892            The Space Between Us   Feb 3, 2017   \n893         893             Birth of the Dragon  Aug 25, 2017   \n\n                                               ratings  \\\n0    [{'Source': 'Internet Movie Database', 'Value'...   \n1    [{'Source': 'Internet Movie Database', 'Value'...   \n2    [{'Source': 'Internet Movie Database', 'Value'...   \n3    [{'Source': 'Internet Movie Database', 'Value'...   \n4    [{'Source': 'Internet Movie Database', 'Value'...   \n..                                                 ...   \n889  [{'Source': 'Internet Movie Database', 'Value'...   \n890  [{'Source': 'Internet Movie Database', 'Value'...   \n891  [{'Source': 'Internet Movie Database', 'Value'...   \n892  [{'Source': 'Internet Movie Database', 'Value'...   \n893  [{'Source': 'Internet Movie Database', 'Value'...   \n\n                                                awards  rated  runtime  \\\n0       Won 1 Oscar. Another 17 wins & 37 nominations.     PG  104 min   \n1    Nominated for 2 Oscars. Another 15 wins & 35 n...  PG-13  143 min   \n2                            12 wins & 20 nominations.  PG-13  123 min   \n3     Won 5 Oscars. Another 54 wins & 104 nominations.      R  155 min   \n4    Nominated for 1 Golden Globe. Another 5 wins &...  PG-13  127 min   \n..                                                 ...    ...      ...   \n889                                     3 nominations.     PG   90 min   \n890                           6 wins & 29 nominations.  PG-13  141 min   \n891                            2 wins & 4 nominations.  PG-13  133 min   \n892                                     4 nominations.  PG-13  120 min   \n893                                             1 win.  PG-13   95 min   \n\n                                          genere  metascore  imdbRating  \\\n0                        Comedy, Family, Fantasy       46.0         6.1   \n1                      Adventure, Drama, Romance       73.0         7.8   \n2                    Action, Adventure, Thriller       59.0         6.1   \n3                       Action, Adventure, Drama       67.0         8.5   \n4                       Comedy, Fantasy, Romance       47.0         6.4   \n..                                           ...        ...         ...   \n889  Animation, Adventure, Comedy, Family, Music       48.0         5.9   \n890                    Biography, Drama, History       78.0         6.6   \n891       Action, Adventure, Drama, History, War       49.0         5.9   \n892                       Drama, Romance, Sci-Fi       33.0         6.4   \n893                     Action, Biography, Drama       35.0         5.5   \n\n     imdbVotes     imdbID  nominations  \n0      193,860  tt0170016         37.0  \n1      491,190  tt0162222         35.0  \n2      299,689  tt0120755         20.0  \n3    1,265,367  tt0172495        104.0  \n4      184,860  tt0207201          8.0  \n..         ...        ...          ...  \n889      4,252  tt2822672          3.0  \n890     71,426  tt1212428         29.0  \n891    165,602  tt4776998          4.0  \n892     44,396  tt3922818          4.0  \n893      6,589  tt2720826          NaN  \n\n[1782 rows x 13 columns]"
     },
     "execution_count": 42,
     "metadata": {},
     "output_type": "execute_result"
    }
   ],
   "source": [
    "print(len(f_df))\n",
    "print(len(l_df))\n",
    "\n",
    "fl_df = f_df.append(l_df)\n",
    "print(len(fl_df))\n",
    "fl_df"
   ]
  },
  {
   "cell_type": "code",
   "execution_count": 44,
   "metadata": {},
   "outputs": [],
   "source": [
    "#fl_df.rename(columns={'title':'Title'},inplace=True)\n",
    "quick_df = pd.merge(num_df,fl_df,on=['Title','Released'],how='left')\n"
   ]
  },
  {
   "cell_type": "code",
   "execution_count": 46,
   "metadata": {},
   "outputs": [
    {
     "data": {
      "text/plain": "Index(['Ranking per year', 'Released', 'Title', 'Source', 'Production\\nBudget',\n       'Opening Weekend\\nRevenue', 'Domestic\\nBox Office',\n       'Infl. Adj. Dom.\\nBox Office', 'International\\nBox Office',\n       'Worldwide\\nBox Office', 'Unnamed: 0', 'ratings', 'awards', 'rated',\n       'runtime', 'genere', 'metascore', 'imdbRating', 'imdbVotes', 'imdbID',\n       'nominations'],\n      dtype='object')"
     },
     "execution_count": 46,
     "metadata": {},
     "output_type": "execute_result"
    }
   ],
   "source": [
    "quick_df"
   ]
  },
  {
   "cell_type": "code",
   "execution_count": 47,
   "metadata": {},
   "outputs": [
    {
     "name": "stdout",
     "output_type": "stream",
     "text": "1800\nIndex(['Ranking per year', 'Released', 'Title', 'Source', 'Production\\nBudget',\n       'Opening Weekend\\nRevenue', 'Domestic\\nBox Office',\n       'Infl. Adj. Dom.\\nBox Office', 'International\\nBox Office',\n       'Worldwide\\nBox Office', 'ratings', 'awards', 'rated', 'runtime',\n       'genere', 'metascore', 'imdbRating', 'imdbVotes', 'imdbID',\n       'nominations'],\n      dtype='object')\n"
    }
   ],
   "source": [
    "quick_df.drop(columns='Unnamed: 0',inplace=True)\n",
    "print(len(num_df))\n",
    "print(quick_df.columns)\n"
   ]
  },
  {
   "cell_type": "code",
   "execution_count": 49,
   "metadata": {},
   "outputs": [
    {
     "data": {
      "text/plain": "Fantastic Four     2\nDraft Day          1\nEverest            1\nTake the Lead      1\nPitch Perfect 2    1\n                  ..\nFrozen             1\nInto the Wild      1\nDaredevil          1\nThe Conjuring      1\nVanilla Sky        1\nName: Title, Length: 1799, dtype: int64"
     },
     "execution_count": 49,
     "metadata": {},
     "output_type": "execute_result"
    }
   ],
   "source": [
    "quick_df['Title'].value_counts()\n"
   ]
  },
  {
   "cell_type": "code",
   "execution_count": 52,
   "metadata": {},
   "outputs": [
    {
     "name": "stdout",
     "output_type": "stream",
     "text": "1799\n1799\n1781\n888\n894\n888\n894\n"
    }
   ],
   "source": [
    "print(len(quick_df['Title'].unique()))\n",
    "print(len(num_df['Title'].unique()))\n",
    "print(len(fl_df['Title'].unique()))\n",
    "print(len(f_df['Title'].unique()))\n",
    "print(len(l_df['Title'].unique()))\n",
    "print(len(f_df['Title']))\n",
    "print(len(l_df['Title']))\n",
    "\n",
    "\n"
   ]
  },
  {
   "cell_type": "code",
   "execution_count": 50,
   "metadata": {},
   "outputs": [],
   "source": [
    "quick_df.to_csv('./data_files/quick_merge.csv')"
   ]
  },
  {
   "cell_type": "code",
   "execution_count": 36,
   "metadata": {},
   "outputs": [
    {
     "data": {
      "text/plain": "'Pirates of the Caribbean: On Stranger…'"
     },
     "execution_count": 36,
     "metadata": {},
     "output_type": "execute_result"
    }
   ],
   "source": [
    "quick_df"
   ]
  },
  {
   "cell_type": "code",
   "execution_count": null,
   "metadata": {},
   "outputs": [],
   "source": []
  }
 ],
 "metadata": {
  "kernelspec": {
   "display_name": "Python 3",
   "language": "python",
   "name": "python3"
  },
  "language_info": {
   "codemirror_mode": {
    "name": "ipython",
    "version": 3
   },
   "file_extension": ".py",
   "mimetype": "text/x-python",
   "name": "python",
   "nbconvert_exporter": "python",
   "pygments_lexer": "ipython3",
   "version": "3.7.4-final"
  },
  "varInspector": {
   "cols": {
    "lenName": 16,
    "lenType": 16,
    "lenVar": 40
   },
   "kernels_config": {
    "python": {
     "delete_cmd_postfix": "",
     "delete_cmd_prefix": "del ",
     "library": "var_list.py",
     "varRefreshCmd": "print(var_dic_list())"
    },
    "r": {
     "delete_cmd_postfix": ") ",
     "delete_cmd_prefix": "rm(",
     "library": "var_list.r",
     "varRefreshCmd": "cat(var_dic_list()) "
    }
   },
   "types_to_exclude": [
    "module",
    "function",
    "builtin_function_or_method",
    "instance",
    "_Feature"
   ],
   "window_display": false
  }
 },
 "nbformat": 4,
 "nbformat_minor": 2
}