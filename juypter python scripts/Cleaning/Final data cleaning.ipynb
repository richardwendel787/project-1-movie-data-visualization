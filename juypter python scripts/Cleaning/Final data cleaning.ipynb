{
 "cells": [
  {
   "cell_type": "code",
   "execution_count": 2,
   "metadata": {},
   "outputs": [],
   "source": [
    "import pandas as pd"
   ]
  },
  {
   "cell_type": "code",
   "execution_count": 3,
   "metadata": {},
   "outputs": [],
   "source": [
    "df = pd.read_csv('./data_files/quick_merge_with_youtube_VERSION2.csv', low_memory=False)"
   ]
  },
  {
   "cell_type": "code",
   "execution_count": 4,
   "metadata": {},
   "outputs": [],
   "source": [
    "df['Released'] = pd.to_datetime(df['Released'], utc=True, errors='coerce')"
   ]
  },
  {
   "cell_type": "code",
   "execution_count": 321,
   "metadata": {},
   "outputs": [],
   "source": [
    "# repl = \"C|\\]|\\[|\\'|:|\\{|\\}|\\,\"\n",
    "# df['genres'] = df['genres'].str.replace(repl, '')\n",
    "# df['genres'] = df['genres'].str.split(' ')"
   ]
  },
  {
   "cell_type": "code",
   "execution_count": 5,
   "metadata": {},
   "outputs": [
    {
     "data": {
      "text/plain": "Friday       1544\nWednesday     186\nThursday       37\nTuesday        19\nMonday          6\nSunday          5\nSaturday        3\nName: Released, dtype: int64"
     },
     "execution_count": 5,
     "metadata": {},
     "output_type": "execute_result"
    }
   ],
   "source": [
    "df['Released'].dt.day_name().value_counts()"
   ]
  },
  {
   "cell_type": "code",
   "execution_count": 6,
   "metadata": {},
   "outputs": [],
   "source": [
    "df['release_year'] = df['Released'].dt.year"
   ]
  },
  {
   "cell_type": "code",
   "execution_count": 7,
   "metadata": {},
   "outputs": [],
   "source": [
    "df['release_month'] = df['Released'].dt.month"
   ]
  },
  {
   "cell_type": "code",
   "execution_count": 325,
   "metadata": {},
   "outputs": [],
   "source": [
    "# df['Production Budget'] = df['Production Budget'].str.replace('\\$|\\,', '').astype('float')"
   ]
  },
  {
   "cell_type": "code",
   "execution_count": 326,
   "metadata": {},
   "outputs": [],
   "source": [
    "# df['Opening Weekend Revenue'] = df['Opening Weekend Revenue'].str.replace('\\$|\\,', '').astype('float')"
   ]
  },
  {
   "cell_type": "code",
   "execution_count": 327,
   "metadata": {},
   "outputs": [],
   "source": [
    "# df['Domestic Box Office'] = df['Domestic Box Office'].str.replace('\\$|\\,', '').astype('float')"
   ]
  },
  {
   "cell_type": "code",
   "execution_count": 328,
   "metadata": {},
   "outputs": [],
   "source": [
    "# df['Infl. Adj. Dom. Box Office'] = df['Infl. Adj. Dom. Box Office'].str.replace('\\$|\\,', '').astype('float')"
   ]
  },
  {
   "cell_type": "code",
   "execution_count": 10,
   "metadata": {},
   "outputs": [],
   "source": [
    "df['runtime'] = df['runtime'].str.replace('\\$|\\,|min', '').astype('float')"
   ]
  },
  {
   "cell_type": "code",
   "execution_count": 9,
   "metadata": {},
   "outputs": [],
   "source": [
    "df['imdbVotes'] = df['imdbVotes'].str.replace('\\$|\\,', '').astype('float')"
   ]
  },
  {
   "cell_type": "code",
   "execution_count": 334,
   "metadata": {},
   "outputs": [],
   "source": [
    "# df['International Box Office'] = df['International Box Office'].str.replace('\\$|\\,', '').astype('float')"
   ]
  },
  {
   "cell_type": "code",
   "execution_count": 336,
   "metadata": {},
   "outputs": [],
   "source": [
    "# df['Worldwide Box Office'] = df['Worldwide Box Office'].str.replace('\\$|\\,', '').astype('float')"
   ]
  },
  {
   "cell_type": "code",
   "execution_count": 12,
   "metadata": {},
   "outputs": [
    {
     "data": {
      "text/plain": "Index(['Unnamed: 0', 'Released', 'Title', 'Source', 'Production Budget',\n       'Opening Weekend Revenue', 'Domestic Box Office',\n       'Infl. Adj. Dom. Box Office', 'International Box Office',\n       'Worldwide Box Office', 'ratings', 'awards', 'rated', 'runtime',\n       'genere', 'metascore', 'imdbRating', 'imdbVotes', 'imdbID',\n       'nominations', 'trailer ids', 'max viewcount',\n       'Infl. Adj. Production Budget', 'Infl. Adj. International Box Office',\n       'Infl. Adj. Worldwide Box Office', 'Infl. Adj. Opening Weekend Revenue',\n       'Genre', 'release_year', 'release_month'],\n      dtype='object')"
     },
     "execution_count": 12,
     "metadata": {},
     "output_type": "execute_result"
    }
   ],
   "source": [
    "df.columns"
   ]
  },
  {
   "cell_type": "code",
   "execution_count": null,
   "metadata": {},
   "outputs": [],
   "source": [
    "df.drop(columns='Unnamed: 0',inplace=True)"
   ]
  },
  {
   "cell_type": "code",
   "execution_count": null,
   "metadata": {},
   "outputs": [],
   "source": [
    "df.to_csv('../data_files/final.csv')"
   ]
  }
 ],
 "metadata": {
  "kernelspec": {
   "display_name": "Python 3.7.4 64-bit ('Andrea': virtualenv)",
   "language": "python",
   "name": "python37464bitandreavirtualenv42002fe43a0c4f7ca82ec11e17e95857"
  },
  "language_info": {
   "codemirror_mode": {
    "name": "ipython",
    "version": 3
   },
   "file_extension": ".py",
   "mimetype": "text/x-python",
   "name": "python",
   "nbconvert_exporter": "python",
   "pygments_lexer": "ipython3",
   "version": "3.7.4-final"
  }
 },
 "nbformat": 4,
 "nbformat_minor": 4
}